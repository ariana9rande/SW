{
 "cells": [
  {
   "cell_type": "code",
   "execution_count": 12,
   "id": "92cf59a8",
   "metadata": {},
   "outputs": [],
   "source": [
    "from tensorflow.keras import models, layers, optimizers\n",
    "from tensorflow.keras.preprocessing.image import ImageDataGenerator\n",
    "from tensorflow.keras.callbacks import EarlyStopping\n",
    "import numpy as np\n",
    "import matplotlib.pyplot as plt\n",
    "import os\n",
    "os.environ['KMP_DUPLICATE_LIB_OK'] = '1'"
   ]
  },
  {
   "cell_type": "code",
   "execution_count": 14,
   "id": "413e57b2",
   "metadata": {
    "scrolled": true
   },
   "outputs": [
    {
     "name": "stdout",
     "output_type": "stream",
     "text": [
      "Found 160 images belonging to 2 classes.\n",
      "Found 120 images belonging to 2 classes.\n"
     ]
    }
   ],
   "source": [
    "BATCH_SIZE = 5\n",
    "\n",
    "train_datagen = ImageDataGenerator(\n",
    "    rescale = 1. / 255,\n",
    "    horizontal_flip = True,\n",
    "    width_shift_range = 0.1,\n",
    "    height_shift_range = 0.1\n",
    ")\n",
    "\n",
    "train_generator = train_datagen.flow_from_directory(\n",
    "    'data/train',\n",
    "    target_size = (150, 150),\n",
    "    batch_size = BATCH_SIZE,\n",
    "    class_mode = 'binary'\n",
    ")\n",
    "\n",
    "test_datagen = ImageDataGenerator(rescale=1./255)\n",
    "test_generator = test_datagen.flow_from_directory(\n",
    "    'data/test',\n",
    "    target_size = (150, 150),\n",
    "    batch_size = BATCH_SIZE,\n",
    "    class_mode = 'binary'\n",
    ")"
   ]
  },
  {
   "cell_type": "code",
   "execution_count": 15,
   "id": "54ef0614",
   "metadata": {},
   "outputs": [
    {
     "name": "stdout",
     "output_type": "stream",
     "text": [
      "Model: \"sequential\"\n",
      "_________________________________________________________________\n",
      " Layer (type)                Output Shape              Param #   \n",
      "=================================================================\n",
      " conv2d (Conv2D)             (None, 148, 148, 32)      896       \n",
      "                                                                 \n",
      " max_pooling2d (MaxPooling2D  (None, 74, 74, 32)       0         \n",
      " )                                                               \n",
      "                                                                 \n",
      " conv2d_1 (Conv2D)           (None, 72, 72, 32)        9248      \n",
      "                                                                 \n",
      " max_pooling2d_1 (MaxPooling  (None, 36, 36, 32)       0         \n",
      " 2D)                                                             \n",
      "                                                                 \n",
      " conv2d_2 (Conv2D)           (None, 34, 34, 64)        18496     \n",
      "                                                                 \n",
      " max_pooling2d_2 (MaxPooling  (None, 17, 17, 64)       0         \n",
      " 2D)                                                             \n",
      "                                                                 \n",
      " flatten (Flatten)           (None, 18496)             0         \n",
      "                                                                 \n",
      " dense (Dense)               (None, 64)                1183808   \n",
      "                                                                 \n",
      " dropout (Dropout)           (None, 64)                0         \n",
      "                                                                 \n",
      " dense_1 (Dense)             (None, 1)                 65        \n",
      "                                                                 \n",
      "=================================================================\n",
      "Total params: 1,212,513\n",
      "Trainable params: 1,212,513\n",
      "Non-trainable params: 0\n",
      "_________________________________________________________________\n"
     ]
    }
   ],
   "source": [
    "model = models.Sequential()\n",
    "model.add(layers.Conv2D(32, (3, 3), input_shape=(150, 150, 3), activation='relu'))\n",
    "model.add(layers.MaxPooling2D(pool_size=(2, 2)))\n",
    "model.add(layers.Conv2D(32, (3, 3), activation='relu'))\n",
    "model.add(layers.MaxPooling2D(pool_size=(2, 2)))\n",
    "model.add(layers.Conv2D(64, (3, 3), activation='relu'))\n",
    "model.add(layers.MaxPooling2D(pool_size=(2, 2)))\n",
    "model.add(layers.Flatten())\n",
    "model.add(layers.Dense(64, activation='relu'))\n",
    "model.add(layers.Dropout(0.5))\n",
    "model.add(layers.Dense(1, activation='sigmoid'))\n",
    "model.summary()"
   ]
  },
  {
   "cell_type": "code",
   "execution_count": 16,
   "id": "33862e66",
   "metadata": {},
   "outputs": [],
   "source": [
    "model.compile(loss='binary_crossentropy',\n",
    "              optimizer=optimizers.Adam(learning_rate=0.0002),\n",
    "             metrics=['accuracy'])\n",
    "early_stopping = EarlyStopping(monitor='val_loss', patience=5)"
   ]
  },
  {
   "cell_type": "code",
   "execution_count": 17,
   "id": "7baf10ce",
   "metadata": {
    "scrolled": false
   },
   "outputs": [
    {
     "name": "stdout",
     "output_type": "stream",
     "text": [
      "Epoch 1/100\n",
      "32/32 [==============================] - 3s 86ms/step - loss: 0.7017 - accuracy: 0.4875 - val_loss: 0.6895 - val_accuracy: 0.5000\n",
      "Epoch 2/100\n",
      "32/32 [==============================] - 1s 33ms/step - loss: 0.6917 - accuracy: 0.5125 - val_loss: 0.6819 - val_accuracy: 0.5500\n",
      "Epoch 3/100\n",
      "32/32 [==============================] - 1s 33ms/step - loss: 0.6771 - accuracy: 0.5875 - val_loss: 0.6646 - val_accuracy: 0.6417\n",
      "Epoch 4/100\n",
      "32/32 [==============================] - 1s 33ms/step - loss: 0.6684 - accuracy: 0.5813 - val_loss: 0.6259 - val_accuracy: 0.7000\n",
      "Epoch 5/100\n",
      "32/32 [==============================] - 1s 34ms/step - loss: 0.6510 - accuracy: 0.6313 - val_loss: 0.6093 - val_accuracy: 0.6500\n",
      "Epoch 6/100\n",
      "32/32 [==============================] - 1s 39ms/step - loss: 0.6006 - accuracy: 0.7000 - val_loss: 0.5171 - val_accuracy: 0.8417\n",
      "Epoch 7/100\n",
      "32/32 [==============================] - 1s 33ms/step - loss: 0.5344 - accuracy: 0.7125 - val_loss: 0.4399 - val_accuracy: 0.8917\n",
      "Epoch 8/100\n",
      "32/32 [==============================] - 1s 33ms/step - loss: 0.5107 - accuracy: 0.7937 - val_loss: 0.3686 - val_accuracy: 0.9000\n",
      "Epoch 9/100\n",
      "32/32 [==============================] - 1s 33ms/step - loss: 0.5052 - accuracy: 0.7750 - val_loss: 0.4972 - val_accuracy: 0.6750\n",
      "Epoch 10/100\n",
      "32/32 [==============================] - 1s 34ms/step - loss: 0.4551 - accuracy: 0.8250 - val_loss: 0.3795 - val_accuracy: 0.8167\n",
      "Epoch 11/100\n",
      "32/32 [==============================] - 1s 39ms/step - loss: 0.3776 - accuracy: 0.8562 - val_loss: 0.2392 - val_accuracy: 0.9250\n",
      "Epoch 12/100\n",
      "32/32 [==============================] - 1s 33ms/step - loss: 0.4084 - accuracy: 0.8313 - val_loss: 0.2537 - val_accuracy: 0.9583\n",
      "Epoch 13/100\n",
      "32/32 [==============================] - 1s 34ms/step - loss: 0.3279 - accuracy: 0.8500 - val_loss: 0.1773 - val_accuracy: 0.9583\n",
      "Epoch 14/100\n",
      "32/32 [==============================] - 1s 34ms/step - loss: 0.3109 - accuracy: 0.8813 - val_loss: 0.5185 - val_accuracy: 0.7083\n",
      "Epoch 15/100\n",
      "32/32 [==============================] - 1s 36ms/step - loss: 0.2958 - accuracy: 0.9000 - val_loss: 0.3011 - val_accuracy: 0.8583\n",
      "Epoch 16/100\n",
      "32/32 [==============================] - 1s 40ms/step - loss: 0.2441 - accuracy: 0.9312 - val_loss: 0.1445 - val_accuracy: 0.9667\n",
      "Epoch 17/100\n",
      "32/32 [==============================] - 1s 34ms/step - loss: 0.2405 - accuracy: 0.9187 - val_loss: 0.1321 - val_accuracy: 0.9667\n",
      "Epoch 18/100\n",
      "32/32 [==============================] - 1s 33ms/step - loss: 0.1813 - accuracy: 0.9250 - val_loss: 0.1987 - val_accuracy: 0.9000\n",
      "Epoch 19/100\n",
      "32/32 [==============================] - 1s 34ms/step - loss: 0.1911 - accuracy: 0.9250 - val_loss: 0.1264 - val_accuracy: 0.9583\n",
      "Epoch 20/100\n",
      "32/32 [==============================] - 1s 37ms/step - loss: 0.1898 - accuracy: 0.9250 - val_loss: 0.1059 - val_accuracy: 0.9667\n",
      "Epoch 21/100\n",
      "32/32 [==============================] - 1s 38ms/step - loss: 0.1743 - accuracy: 0.9500 - val_loss: 0.0907 - val_accuracy: 0.9750\n",
      "Epoch 22/100\n",
      "32/32 [==============================] - 1s 34ms/step - loss: 0.1772 - accuracy: 0.9563 - val_loss: 0.0970 - val_accuracy: 0.9667\n",
      "Epoch 23/100\n",
      "32/32 [==============================] - 1s 33ms/step - loss: 0.1492 - accuracy: 0.9625 - val_loss: 0.0951 - val_accuracy: 0.9667\n",
      "Epoch 24/100\n",
      "32/32 [==============================] - 1s 34ms/step - loss: 0.1177 - accuracy: 0.9625 - val_loss: 0.0772 - val_accuracy: 0.9750\n",
      "Epoch 25/100\n",
      "32/32 [==============================] - 1s 33ms/step - loss: 0.1294 - accuracy: 0.9625 - val_loss: 0.0836 - val_accuracy: 0.9750\n",
      "Epoch 26/100\n",
      "32/32 [==============================] - 1s 39ms/step - loss: 0.1196 - accuracy: 0.9625 - val_loss: 0.0780 - val_accuracy: 0.9750\n",
      "Epoch 27/100\n",
      "32/32 [==============================] - 1s 34ms/step - loss: 0.1164 - accuracy: 0.9688 - val_loss: 0.0600 - val_accuracy: 0.9833\n",
      "Epoch 28/100\n",
      "32/32 [==============================] - 1s 33ms/step - loss: 0.0717 - accuracy: 0.9875 - val_loss: 0.0568 - val_accuracy: 0.9833\n",
      "Epoch 29/100\n",
      "32/32 [==============================] - 1s 33ms/step - loss: 0.0698 - accuracy: 0.9750 - val_loss: 0.0546 - val_accuracy: 0.9750\n",
      "Epoch 30/100\n",
      "32/32 [==============================] - 1s 33ms/step - loss: 0.1332 - accuracy: 0.9563 - val_loss: 0.0539 - val_accuracy: 0.9667\n",
      "Epoch 31/100\n",
      "32/32 [==============================] - 1s 40ms/step - loss: 0.1286 - accuracy: 0.9625 - val_loss: 0.0750 - val_accuracy: 0.9833\n",
      "Epoch 32/100\n",
      "32/32 [==============================] - 1s 33ms/step - loss: 0.1060 - accuracy: 0.9563 - val_loss: 0.0963 - val_accuracy: 0.9583\n",
      "Epoch 33/100\n",
      "32/32 [==============================] - 1s 33ms/step - loss: 0.1099 - accuracy: 0.9563 - val_loss: 0.0821 - val_accuracy: 0.9750\n",
      "Epoch 34/100\n",
      "32/32 [==============================] - 1s 33ms/step - loss: 0.0777 - accuracy: 0.9750 - val_loss: 0.0925 - val_accuracy: 0.9583\n",
      "Epoch 35/100\n",
      "32/32 [==============================] - 1s 33ms/step - loss: 0.0773 - accuracy: 0.9812 - val_loss: 0.0823 - val_accuracy: 0.9667\n"
     ]
    }
   ],
   "source": [
    "h = model.fit(train_generator, epochs=100, validation_data=test_generator,\n",
    "             callbacks=[early_stopping])"
   ]
  },
  {
   "cell_type": "code",
   "execution_count": 18,
   "id": "b59d3ea5",
   "metadata": {},
   "outputs": [
    {
     "data": {
      "image/png": "[encoded data removed]",
      "text/plain": [
       "<Figure size 640x480 with 1 Axes>"
      ]
     },
     "metadata": {},
     "output_type": "display_data"
    }
   ],
   "source": [
    "y_vloss = h.history['val_loss']\n",
    "y_loss = h.history['loss']\n",
    "\n",
    "x_len = np.arange(len(y_loss))\n",
    "plt.plot(x_len, y_vloss, marker='.', c=\"red\", label='Testset_loss')\n",
    "plt.plot(x_len, y_loss, marker='.', c=\"blue\", label='Trainset_loss')\n",
    "\n",
    "plt.legend(loc='upper right')\n",
    "plt.grid()\n",
    "plt.xlabel('epoch')\n",
    "plt.ylabel('loss')\n",
    "plt.show()"
   ]
  },
  {
   "cell_type": "code",
   "execution_count": null,
   "id": "d5708e01",
   "metadata": {},
   "outputs": [],
   "source": []
  }
 ],
 "metadata": {
  "kernelspec": {
   "display_name": "Python 3 (ipykernel)",
   "language": "python",
   "name": "python3"
  },
  "language_info": {
   "codemirror_mode": {
    "name": "ipython",
    "version": 3
   },
   "file_extension": ".py",
   "mimetype": "text/x-python",
   "name": "python",
   "nbconvert_exporter": "python",
   "pygments_lexer": "ipython3",
   "version": "3.9.17"
  }
 },
 "nbformat": 4,
 "nbformat_minor": 5
}
