{
 "cells": [
  {
   "cell_type": "code",
   "execution_count": 1,
   "id": "03752821",
   "metadata": {},
   "outputs": [],
   "source": [
    "from tensorflow.keras import models, layers, optimizers\n",
    "from tensorflow.keras.preprocessing.image import ImageDataGenerator\n",
    "from tensorflow.keras.callbacks import EarlyStopping, ModelCheckpoint\n",
    "from tensorflow.keras.applications import VGG16\n",
    "import numpy as np\n",
    "import matplotlib.pyplot as plt\n",
    "import os\n",
    "os.environ['KMP_DUPLICATE_LIB_OK'] = '1'"
   ]
  },
  {
   "cell_type": "code",
   "execution_count": 2,
   "id": "acfecb85",
   "metadata": {},
   "outputs": [
    {
     "name": "stdout",
     "output_type": "stream",
     "text": [
      "Found 20000 images belonging to 2 classes.\n",
      "Found 5000 images belonging to 2 classes.\n"
     ]
    }
   ],
   "source": [
    "BATCH_SIZE = 20\n",
    "\n",
    "train_datagen = ImageDataGenerator(\n",
    "    rescale=1./255,\n",
    "    horizontal_flip=True,\n",
    "    width_shift_range=0.1,\n",
    "    height_shift_range=0.1,\n",
    ")\n",
    "\n",
    "train_generator = train_datagen.flow_from_directory(\n",
    "    'data/dogs-vs-cats/train',\n",
    "    target_size=(150, 150),\n",
    "    batch_size=BATCH_SIZE,\n",
    "    class_mode='binary'\n",
    ")\n",
    "\n",
    "test_datagen = ImageDataGenerator(rescale=1./255)\n",
    "\n",
    "test_generator = test_datagen.flow_from_directory(\n",
    "    'data/dogs-vs-cats/test',\n",
    "    target_size=(150, 150),\n",
    "    batch_size=BATCH_SIZE,\n",
    "    class_mode='binary'\n",
    ")"
   ]
  },
  {
   "cell_type": "code",
   "execution_count": 3,
   "id": "0f2fb2ae",
   "metadata": {},
   "outputs": [
    {
     "name": "stdout",
     "output_type": "stream",
     "text": [
      "Downloading data from https://storage.googleapis.com/tensorflow/keras-applications/vgg16/vgg16_weights_tf_dim_ordering_tf_kernels_notop.h5\n",
      "58889256/58889256 [==============================] - 3s 0us/step\n",
      "Model: \"vgg16\"\n",
      "_________________________________________________________________\n",
      " Layer (type)                Output Shape              Param #   \n",
      "=================================================================\n",
      " input_1 (InputLayer)        [(None, 150, 150, 3)]     0         \n",
      "                                                                 \n",
      " block1_conv1 (Conv2D)       (None, 150, 150, 64)      1792      \n",
      "                                                                 \n",
      " block1_conv2 (Conv2D)       (None, 150, 150, 64)      36928     \n",
      "                                                                 \n",
      " block1_pool (MaxPooling2D)  (None, 75, 75, 64)        0         \n",
      "                                                                 \n",
      " block2_conv1 (Conv2D)       (None, 75, 75, 128)       73856     \n",
      "                                                                 \n",
      " block2_conv2 (Conv2D)       (None, 75, 75, 128)       147584    \n",
      "                                                                 \n",
      " block2_pool (MaxPooling2D)  (None, 37, 37, 128)       0         \n",
      "                                                                 \n",
      " block3_conv1 (Conv2D)       (None, 37, 37, 256)       295168    \n",
      "                                                                 \n",
      " block3_conv2 (Conv2D)       (None, 37, 37, 256)       590080    \n",
      "                                                                 \n",
      " block3_conv3 (Conv2D)       (None, 37, 37, 256)       590080    \n",
      "                                                                 \n",
      " block3_pool (MaxPooling2D)  (None, 18, 18, 256)       0         \n",
      "                                                                 \n",
      " block4_conv1 (Conv2D)       (None, 18, 18, 512)       1180160   \n",
      "                                                                 \n",
      " block4_conv2 (Conv2D)       (None, 18, 18, 512)       2359808   \n",
      "                                                                 \n",
      " block4_conv3 (Conv2D)       (None, 18, 18, 512)       2359808   \n",
      "                                                                 \n",
      " block4_pool (MaxPooling2D)  (None, 9, 9, 512)         0         \n",
      "                                                                 \n",
      " block5_conv1 (Conv2D)       (None, 9, 9, 512)         2359808   \n",
      "                                                                 \n",
      " block5_conv2 (Conv2D)       (None, 9, 9, 512)         2359808   \n",
      "                                                                 \n",
      " block5_conv3 (Conv2D)       (None, 9, 9, 512)         2359808   \n",
      "                                                                 \n",
      " block5_pool (MaxPooling2D)  (None, 4, 4, 512)         0         \n",
      "                                                                 \n",
      "=================================================================\n",
      "Total params: 14,714,688\n",
      "Trainable params: 0\n",
      "Non-trainable params: 14,714,688\n",
      "_________________________________________________________________\n"
     ]
    }
   ],
   "source": [
    "transfer_model = VGG16(weights='imagenet', include_top=False,\n",
    "                      input_shape=(150, 150, 3))\n",
    "\n",
    "transfer_model.trainable = False\n",
    "transfer_model.summary()"
   ]
  },
  {
   "cell_type": "code",
   "execution_count": 4,
   "id": "0bbb74b7",
   "metadata": {},
   "outputs": [
    {
     "name": "stdout",
     "output_type": "stream",
     "text": [
      "Model: \"sequential\"\n",
      "_________________________________________________________________\n",
      " Layer (type)                Output Shape              Param #   \n",
      "=================================================================\n",
      " vgg16 (Functional)          (None, 4, 4, 512)         14714688  \n",
      "                                                                 \n",
      " flatten (Flatten)           (None, 8192)              0         \n",
      "                                                                 \n",
      " dense (Dense)               (None, 512)               4194816   \n",
      "                                                                 \n",
      " dropout (Dropout)           (None, 512)               0         \n",
      "                                                                 \n",
      " dense_1 (Dense)             (None, 1)                 513       \n",
      "                                                                 \n",
      "=================================================================\n",
      "Total params: 18,910,017\n",
      "Trainable params: 4,195,329\n",
      "Non-trainable params: 14,714,688\n",
      "_________________________________________________________________\n"
     ]
    }
   ],
   "source": [
    "finetune_model = models.Sequential()\n",
    "finetune_model.add(transfer_model)\n",
    "finetune_model.add(layers.Flatten())\n",
    "finetune_model.add(layers.Dense(512, activation='relu'))\n",
    "finetune_model.add(layers.Dropout(0.5))\n",
    "finetune_model.add(layers.Dense(1, activation='sigmoid'))\n",
    "finetune_model.summary()"
   ]
  },
  {
   "cell_type": "code",
   "execution_count": 5,
   "id": "1c7190c2",
   "metadata": {},
   "outputs": [],
   "source": [
    "finetune_model.compile(loss='binary_crossentropy',\n",
    "            optimizer=optimizers.Adam(learning_rate=0.0002),\n",
    "             metrics=['accuracy'])"
   ]
  },
  {
   "cell_type": "code",
   "execution_count": 6,
   "id": "bffd8c5d",
   "metadata": {},
   "outputs": [],
   "source": [
    "early_stopping = EarlyStopping(monitor='val_loss', patience=10)\n",
    "\n",
    "modelpath = 'model/dogs-vs-cats.hdf5'\n",
    "\n",
    "checkpoint = ModelCheckpoint(filepath=modelpath, verbose=0, monitor='val_loss',\n",
    "                             save_best_only=True)"
   ]
  },
  {
   "cell_type": "code",
   "execution_count": null,
   "id": "95b91da2",
   "metadata": {},
   "outputs": [
    {
     "name": "stdout",
     "output_type": "stream",
     "text": [
      "Epoch 1/30\n",
      "1000/1000 [==============================] - 629s 629ms/step - loss: 0.3228 - accuracy: 0.8565 - val_loss: 0.2321 - val_accuracy: 0.9000\n",
      "Epoch 2/30\n",
      "1000/1000 [==============================] - 571s 571ms/step - loss: 0.2644 - accuracy: 0.8839 - val_loss: 0.2174 - val_accuracy: 0.9096\n",
      "Epoch 3/30\n",
      "1000/1000 [==============================] - 574s 574ms/step - loss: 0.2452 - accuracy: 0.8929 - val_loss: 0.2194 - val_accuracy: 0.9064\n",
      "Epoch 4/30\n",
      "1000/1000 [==============================] - 574s 574ms/step - loss: 0.2345 - accuracy: 0.9007 - val_loss: 0.2068 - val_accuracy: 0.9130\n",
      "Epoch 5/30\n",
      "1000/1000 [==============================] - 592s 592ms/step - loss: 0.2195 - accuracy: 0.9043 - val_loss: 0.2246 - val_accuracy: 0.9028\n",
      "Epoch 6/30\n",
      "1000/1000 [==============================] - 605s 605ms/step - loss: 0.2190 - accuracy: 0.9036 - val_loss: 0.2025 - val_accuracy: 0.9148\n",
      "Epoch 7/30\n",
      "1000/1000 [==============================] - 604s 604ms/step - loss: 0.2102 - accuracy: 0.9101 - val_loss: 0.1962 - val_accuracy: 0.9210\n",
      "Epoch 8/30\n",
      "1000/1000 [==============================] - 589s 589ms/step - loss: 0.2075 - accuracy: 0.9114 - val_loss: 0.1946 - val_accuracy: 0.9186\n",
      "Epoch 9/30\n",
      "1000/1000 [==============================] - 588s 588ms/step - loss: 0.2001 - accuracy: 0.9151 - val_loss: 0.1938 - val_accuracy: 0.9196\n",
      "Epoch 10/30\n",
      "1000/1000 [==============================] - 639s 639ms/step - loss: 0.1997 - accuracy: 0.9146 - val_loss: 0.1971 - val_accuracy: 0.9184\n",
      "Epoch 11/30\n",
      "1000/1000 [==============================] - 595s 595ms/step - loss: 0.1920 - accuracy: 0.9182 - val_loss: 0.1983 - val_accuracy: 0.9192\n",
      "Epoch 12/30\n",
      "1000/1000 [==============================] - 584s 584ms/step - loss: 0.1821 - accuracy: 0.9223 - val_loss: 0.1956 - val_accuracy: 0.9208\n",
      "Epoch 13/30\n",
      "1000/1000 [==============================] - 583s 583ms/step - loss: 0.1835 - accuracy: 0.9240 - val_loss: 0.1920 - val_accuracy: 0.9160\n",
      "Epoch 14/30\n",
      "1000/1000 [==============================] - 581s 581ms/step - loss: 0.1773 - accuracy: 0.9262 - val_loss: 0.1871 - val_accuracy: 0.9230\n",
      "Epoch 15/30\n",
      "1000/1000 [==============================] - 608s 608ms/step - loss: 0.1728 - accuracy: 0.9279 - val_loss: 0.2056 - val_accuracy: 0.9176\n",
      "Epoch 16/30\n",
      "1000/1000 [==============================] - 593s 593ms/step - loss: 0.1716 - accuracy: 0.9277 - val_loss: 0.2000 - val_accuracy: 0.9184\n",
      "Epoch 17/30\n",
      "1000/1000 [==============================] - 570s 570ms/step - loss: 0.1665 - accuracy: 0.9302 - val_loss: 0.1898 - val_accuracy: 0.9254\n",
      "Epoch 18/30\n",
      "1000/1000 [==============================] - 5501s 6s/step - loss: 0.1586 - accuracy: 0.9338 - val_loss: 0.2469 - val_accuracy: 0.8976\n",
      "Epoch 19/30\n",
      "1000/1000 [==============================] - 596s 596ms/step - loss: 0.1563 - accuracy: 0.9359 - val_loss: 0.1978 - val_accuracy: 0.9240\n",
      "Epoch 20/30\n",
      "1000/1000 [==============================] - 622s 622ms/step - loss: 0.1515 - accuracy: 0.9348 - val_loss: 0.1973 - val_accuracy: 0.9220\n",
      "Epoch 21/30\n",
      " 338/1000 [=========>....................] - ETA: 5:27 - loss: 0.1490 - accuracy: 0.9342"
     ]
    }
   ],
   "source": [
    "h = finetune_model.fit(train_generator, epochs=30, validation_data=test_generator,\n",
    "             callbacks=[checkpoint, early_stopping])"
   ]
  },
  {
   "cell_type": "code",
   "execution_count": null,
   "id": "fff35c9a",
   "metadata": {},
   "outputs": [],
   "source": []
  }
 ],
 "metadata": {
  "kernelspec": {
   "display_name": "Python 3 (ipykernel)",
   "language": "python",
   "name": "python3"
  },
  "language_info": {
   "codemirror_mode": {
    "name": "ipython",
    "version": 3
   },
   "file_extension": ".py",
   "mimetype": "text/x-python",
   "name": "python",
   "nbconvert_exporter": "python",
   "pygments_lexer": "ipython3",
   "version": "3.9.17"
  }
 },
 "nbformat": 4,
 "nbformat_minor": 5
}
