{
 "cells": [
  {
   "cell_type": "code",
   "execution_count": 1,
   "id": "759afe7f",
   "metadata": {},
   "outputs": [],
   "source": [
    "import torch\n",
    "import numpy as np\n",
    "import torch.nn as nn\n",
    "import torch.optim as optim\n",
    "from torch.utils.data import DataLoader, TensorDataset"
   ]
  },
  {
   "cell_type": "code",
   "execution_count": 2,
   "id": "3d5bcb94",
   "metadata": {},
   "outputs": [],
   "source": [
    "device = (torch.device('cuda') if torch.cuda.is_available()\n",
    "          else torch.device('cpu'))\n",
    "\n",
    "dataset_numpy = np.loadtxt('data/pima-indians-diabetes3.csv',\n",
    "                          delimiter=',', skiprows=1)\n",
    "dataset = torch.from_numpy(dataset_numpy)"
   ]
  },
  {
   "cell_type": "code",
   "execution_count": 3,
   "id": "725fe875",
   "metadata": {},
   "outputs": [],
   "source": [
    "X = dataset[:, :-1]\n",
    "y = dataset[:, -1]"
   ]
  },
  {
   "cell_type": "code",
   "execution_count": 4,
   "id": "e3f2eb30",
   "metadata": {},
   "outputs": [
    {
     "data": {
      "text/plain": [
       "torch.Size([768, 8])"
      ]
     },
     "execution_count": 4,
     "metadata": {},
     "output_type": "execute_result"
    }
   ],
   "source": [
    "X.shape"
   ]
  },
  {
   "cell_type": "code",
   "execution_count": 5,
   "id": "7b05d944",
   "metadata": {},
   "outputs": [
    {
     "data": {
      "text/plain": [
       "torch.Size([768])"
      ]
     },
     "execution_count": 5,
     "metadata": {},
     "output_type": "execute_result"
    }
   ],
   "source": [
    "y.shape"
   ]
  },
  {
   "cell_type": "code",
   "execution_count": 6,
   "id": "5024a907",
   "metadata": {},
   "outputs": [],
   "source": [
    "class Pima(nn.Module):\n",
    "    def __init__(self):\n",
    "        super(Pima, self).__init__()\n",
    "        self.hidden_linear1 = nn.Linear(8, 12)\n",
    "        self.activation = nn.ReLU()\n",
    "        self.hidden_linear2 = nn.Linear(12, 8)\n",
    "        self.hidden_linear3 = nn.Linear(8, 1)\n",
    "        self.output_activation = nn.Sigmoid()\n",
    "        \n",
    "    def forward(self, x):\n",
    "        x = self.hidden_linear1(x)\n",
    "        x = self.activation(x)\n",
    "        x = self.hidden_linear2(x)\n",
    "        x = self.activation(x)\n",
    "        x = self.hidden_linear3(x)\n",
    "        x = self.output_activation(x)\n",
    "        \n",
    "        return x\n",
    "    \n",
    "    def predict(self, x):\n",
    "        pred = self.forward(x)\n",
    "        if pred >= 0.5:\n",
    "            return 1\n",
    "        else:\n",
    "            return 0"
   ]
  },
  {
   "cell_type": "code",
   "execution_count": 7,
   "id": "090502a2",
   "metadata": {},
   "outputs": [
    {
     "data": {
      "text/plain": [
       "Pima(\n",
       "  (hidden_linear1): Linear(in_features=8, out_features=12, bias=True)\n",
       "  (activation): ReLU()\n",
       "  (hidden_linear2): Linear(in_features=12, out_features=8, bias=True)\n",
       "  (hidden_linear3): Linear(in_features=8, out_features=1, bias=True)\n",
       "  (output_activation): Sigmoid()\n",
       ")"
      ]
     },
     "execution_count": 7,
     "metadata": {},
     "output_type": "execute_result"
    }
   ],
   "source": [
    "model = Pima().to(device)\n",
    "model"
   ]
  },
  {
   "cell_type": "code",
   "execution_count": 8,
   "id": "63bf9139",
   "metadata": {},
   "outputs": [],
   "source": [
    "def count_parameters(model):\n",
    "    total_param = 0\n",
    "    for name, param in model.named_parameters():\n",
    "        if param.requires_grad:\n",
    "            num_param = np.prod(param.size())\n",
    "            if param.dim() > 1:\n",
    "                print(name, ':', ' x '.join(str(x) for x in list(param.size())[::-1]), '=', num_param)\n",
    "            else:\n",
    "                print(name, ':', num_param)\n",
    "                print('-' * 40)\n",
    "            total_param += num_param\n",
    "    print('total:', total_param)"
   ]
  },
  {
   "cell_type": "code",
   "execution_count": 9,
   "id": "ef199587",
   "metadata": {},
   "outputs": [
    {
     "name": "stdout",
     "output_type": "stream",
     "text": [
      "hidden_linear1.weight : 8 x 12 = 96\n",
      "hidden_linear1.bias : 12\n",
      "----------------------------------------\n",
      "hidden_linear2.weight : 12 x 8 = 96\n",
      "hidden_linear2.bias : 8\n",
      "----------------------------------------\n",
      "hidden_linear3.weight : 8 x 1 = 8\n",
      "hidden_linear3.bias : 1\n",
      "----------------------------------------\n",
      "total: 221\n"
     ]
    }
   ],
   "source": [
    "count_parameters(model)"
   ]
  },
  {
   "cell_type": "code",
   "execution_count": 10,
   "id": "c3555e27",
   "metadata": {},
   "outputs": [],
   "source": [
    "ds = TensorDataset(X, y)\n",
    "dataloader = DataLoader(ds, batch_size=5)\n",
    "optimizer = optim.Adam(model.parameters())\n",
    "loss_fn = nn.BCELoss()\n",
    "n_epochs = 100"
   ]
  },
  {
   "cell_type": "code",
   "execution_count": 11,
   "id": "eb862b37",
   "metadata": {},
   "outputs": [
    {
     "name": "stdout",
     "output_type": "stream",
     "text": [
      "Epoch: 0, Loss: 0.611996\n",
      "Epoch: 1, Loss: 0.544751\n",
      "Epoch: 2, Loss: 0.516771\n",
      "Epoch: 3, Loss: 0.526458\n",
      "Epoch: 4, Loss: 0.539419\n",
      "Epoch: 5, Loss: 0.535317\n",
      "Epoch: 6, Loss: 0.530821\n",
      "Epoch: 7, Loss: 0.538468\n",
      "Epoch: 8, Loss: 0.533838\n",
      "Epoch: 9, Loss: 0.539254\n",
      "Epoch: 10, Loss: 0.531772\n",
      "Epoch: 11, Loss: 0.527312\n",
      "Epoch: 12, Loss: 0.521992\n",
      "Epoch: 13, Loss: 0.517721\n",
      "Epoch: 14, Loss: 0.531183\n",
      "Epoch: 15, Loss: 0.515029\n",
      "Epoch: 16, Loss: 0.537564\n",
      "Epoch: 17, Loss: 0.523568\n",
      "Epoch: 18, Loss: 0.520231\n",
      "Epoch: 19, Loss: 0.527797\n",
      "Epoch: 20, Loss: 0.527874\n",
      "Epoch: 21, Loss: 0.521578\n",
      "Epoch: 22, Loss: 0.523485\n",
      "Epoch: 23, Loss: 0.502561\n",
      "Epoch: 24, Loss: 0.512940\n",
      "Epoch: 25, Loss: 0.517082\n",
      "Epoch: 26, Loss: 0.527064\n",
      "Epoch: 27, Loss: 0.533069\n",
      "Epoch: 28, Loss: 0.531134\n",
      "Epoch: 29, Loss: 0.541891\n",
      "Epoch: 30, Loss: 0.506780\n",
      "Epoch: 31, Loss: 0.484450\n",
      "Epoch: 32, Loss: 0.485595\n",
      "Epoch: 33, Loss: 0.458797\n",
      "Epoch: 34, Loss: 0.452836\n",
      "Epoch: 35, Loss: 0.454356\n",
      "Epoch: 36, Loss: 0.453586\n",
      "Epoch: 37, Loss: 0.442747\n",
      "Epoch: 38, Loss: 0.435611\n",
      "Epoch: 39, Loss: 0.441992\n",
      "Epoch: 40, Loss: 0.406357\n",
      "Epoch: 41, Loss: 0.393316\n",
      "Epoch: 42, Loss: 0.395886\n",
      "Epoch: 43, Loss: 0.393995\n",
      "Epoch: 44, Loss: 0.387019\n",
      "Epoch: 45, Loss: 0.392240\n",
      "Epoch: 46, Loss: 0.393136\n",
      "Epoch: 47, Loss: 0.393145\n",
      "Epoch: 48, Loss: 0.379077\n",
      "Epoch: 49, Loss: 0.373006\n",
      "Epoch: 50, Loss: 0.370044\n",
      "Epoch: 51, Loss: 0.371327\n",
      "Epoch: 52, Loss: 0.370133\n",
      "Epoch: 53, Loss: 0.369708\n",
      "Epoch: 54, Loss: 0.368259\n",
      "Epoch: 55, Loss: 0.364803\n",
      "Epoch: 56, Loss: 0.364272\n",
      "Epoch: 57, Loss: 0.369834\n",
      "Epoch: 58, Loss: 0.382591\n",
      "Epoch: 59, Loss: 0.357992\n",
      "Epoch: 60, Loss: 0.360244\n",
      "Epoch: 61, Loss: 0.380328\n",
      "Epoch: 62, Loss: 0.350478\n",
      "Epoch: 63, Loss: 0.348958\n",
      "Epoch: 64, Loss: 0.378560\n",
      "Epoch: 65, Loss: 0.352700\n",
      "Epoch: 66, Loss: 0.344841\n",
      "Epoch: 67, Loss: 0.338783\n",
      "Epoch: 68, Loss: 0.371086\n",
      "Epoch: 69, Loss: 0.324684\n",
      "Epoch: 70, Loss: 0.332767\n",
      "Epoch: 71, Loss: 0.330833\n",
      "Epoch: 72, Loss: 0.331205\n",
      "Epoch: 73, Loss: 0.334707\n",
      "Epoch: 74, Loss: 0.324793\n",
      "Epoch: 75, Loss: 0.330834\n",
      "Epoch: 76, Loss: 0.327742\n",
      "Epoch: 77, Loss: 0.325873\n",
      "Epoch: 78, Loss: 0.327783\n",
      "Epoch: 79, Loss: 0.371271\n",
      "Epoch: 80, Loss: 0.337102\n",
      "Epoch: 81, Loss: 0.358410\n",
      "Epoch: 82, Loss: 0.360476\n",
      "Epoch: 83, Loss: 0.360867\n",
      "Epoch: 84, Loss: 0.358391\n",
      "Epoch: 85, Loss: 0.359667\n",
      "Epoch: 86, Loss: 0.355506\n",
      "Epoch: 87, Loss: 0.359417\n",
      "Epoch: 88, Loss: 0.352802\n",
      "Epoch: 89, Loss: 0.347299\n",
      "Epoch: 90, Loss: 0.323831\n",
      "Epoch: 91, Loss: 0.342595\n",
      "Epoch: 92, Loss: 0.357028\n",
      "Epoch: 93, Loss: 0.343343\n",
      "Epoch: 94, Loss: 0.342328\n",
      "Epoch: 95, Loss: 0.340553\n",
      "Epoch: 96, Loss: 0.311627\n",
      "Epoch: 97, Loss: 0.353986\n",
      "Epoch: 98, Loss: 0.351897\n",
      "Epoch: 99, Loss: 0.346538\n"
     ]
    }
   ],
   "source": [
    "for epoch in range(n_epochs):\n",
    "    for data, label in dataloader:\n",
    "        data = data.type(torch.FloatTensor)\n",
    "        out = model(data.to(device))\n",
    "        loss = loss_fn(out, label.type(torch.FloatTensor).unsqueeze(1)).to(device)\n",
    "        \n",
    "        optimizer.zero_grad()\n",
    "        loss.backward()\n",
    "        optimizer.step()\n",
    "        \n",
    "    print(\"Epoch: %d, Loss: %f\" % (epoch, float(loss)))"
   ]
  },
  {
   "cell_type": "code",
   "execution_count": 12,
   "id": "fc7e62bf",
   "metadata": {},
   "outputs": [
    {
     "name": "stdout",
     "output_type": "stream",
     "text": [
      "Accuracy: 0.785156\n"
     ]
    }
   ],
   "source": [
    "train_loader = DataLoader(ds)\n",
    "correct = 0\n",
    "\n",
    "with torch.no_grad():\n",
    "    for data, label in train_loader:\n",
    "        predicted = model.predict(data.type(torch.FloatTensor).to(device))\n",
    "        target = int(label[0])\n",
    "        correct += 1 if predicted == target else 0\n",
    "    \n",
    "print(\"Accuracy: %f\" % (correct / len(train_loader.dataset)))"
   ]
  },
  {
   "cell_type": "code",
   "execution_count": null,
   "id": "9e13e75d",
   "metadata": {},
   "outputs": [],
   "source": []
  }
 ],
 "metadata": {
  "kernelspec": {
   "display_name": "Python 3 (ipykernel)",
   "language": "python",
   "name": "python3"
  },
  "language_info": {
   "codemirror_mode": {
    "name": "ipython",
    "version": 3
   },
   "file_extension": ".py",
   "mimetype": "text/x-python",
   "name": "python",
   "nbconvert_exporter": "python",
   "pygments_lexer": "ipython3",
   "version": "3.9.17"
  }
 },
 "nbformat": 4,
 "nbformat_minor": 5
}
