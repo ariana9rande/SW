{
 "cells": [
  {
   "cell_type": "code",
   "execution_count": 2,
   "id": "36d1e76c",
   "metadata": {},
   "outputs": [],
   "source": [
    "from tensorflow.keras import models, layers\n",
    "from tensorflow.keras.utils import to_categorical\n",
    "from tensorflow.keras.preprocessing import sequence\n",
    "from tensorflow.keras.datasets import reuters\n",
    "from tensorflow.keras.callbacks import EarlyStopping\n",
    "import numpy as np\n",
    "import matplotlib.pyplot as plt\n",
    "import os\n",
    "os.environ['KMP_DUPLICATE_LIB_OK'] = '1'"
   ]
  },
  {
   "cell_type": "code",
   "execution_count": 3,
   "id": "da16fb5d",
   "metadata": {},
   "outputs": [
    {
     "name": "stdout",
     "output_type": "stream",
     "text": [
      "Downloading data from https://storage.googleapis.com/tensorflow/tf-keras-datasets/reuters.npz\n",
      "2110848/2110848 [==============================] - 0s 0us/step\n"
     ]
    }
   ],
   "source": [
    "(X_train, y_train), (X_test, y_test) = \\\n",
    "                reuters.load_data(num_words=1000, test_split=0.2)"
   ]
  },
  {
   "cell_type": "code",
   "execution_count": 4,
   "id": "133726af",
   "metadata": {},
   "outputs": [
    {
     "data": {
      "text/plain": [
       "(8982,)"
      ]
     },
     "execution_count": 4,
     "metadata": {},
     "output_type": "execute_result"
    }
   ],
   "source": [
    "X_train.shape"
   ]
  },
  {
   "cell_type": "code",
   "execution_count": 5,
   "id": "af9c695a",
   "metadata": {},
   "outputs": [
    {
     "data": {
      "text/plain": [
       "(2246,)"
      ]
     },
     "execution_count": 5,
     "metadata": {},
     "output_type": "execute_result"
    }
   ],
   "source": [
    "X_test.shape"
   ]
  },
  {
   "cell_type": "code",
   "execution_count": 6,
   "id": "ba6602ca",
   "metadata": {},
   "outputs": [
    {
     "name": "stdout",
     "output_type": "stream",
     "text": [
      "[1, 2, 2, 8, 43, 10, 447, 5, 25, 207, 270, 5, 2, 111, 16, 369, 186, 90, 67, 7, 89, 5, 19, 102, 6, 19, 124, 15, 90, 67, 84, 22, 482, 26, 7, 48, 4, 49, 8, 864, 39, 209, 154, 6, 151, 6, 83, 11, 15, 22, 155, 11, 15, 7, 48, 9, 2, 2, 504, 6, 258, 6, 272, 11, 15, 22, 134, 44, 11, 15, 16, 8, 197, 2, 90, 67, 52, 29, 209, 30, 32, 132, 6, 109, 15, 17, 12]\n"
     ]
    }
   ],
   "source": [
    "print(X_train[0])"
   ]
  },
  {
   "cell_type": "code",
   "execution_count": 7,
   "id": "038b9165",
   "metadata": {},
   "outputs": [],
   "source": [
    "X_train = sequence.pad_sequences(X_train, maxlen=100)\n",
    "X_test = sequence.pad_sequences(X_test, maxlen=100)"
   ]
  },
  {
   "cell_type": "code",
   "execution_count": 8,
   "id": "ef2311fc",
   "metadata": {},
   "outputs": [],
   "source": [
    "y_train = to_categorical(y_train)\n",
    "y_test = to_categorical(y_test)"
   ]
  },
  {
   "cell_type": "code",
   "execution_count": 9,
   "id": "7b546862",
   "metadata": {},
   "outputs": [
    {
     "data": {
      "text/plain": [
       "(8982, 46)"
      ]
     },
     "execution_count": 9,
     "metadata": {},
     "output_type": "execute_result"
    }
   ],
   "source": [
    "y_train.shape"
   ]
  },
  {
   "cell_type": "code",
   "execution_count": 10,
   "id": "f72f5aa2",
   "metadata": {},
   "outputs": [
    {
     "data": {
      "text/plain": [
       "array([0., 0., 0., 1., 0., 0., 0., 0., 0., 0., 0., 0., 0., 0., 0., 0., 0.,\n",
       "       0., 0., 0., 0., 0., 0., 0., 0., 0., 0., 0., 0., 0., 0., 0., 0., 0.,\n",
       "       0., 0., 0., 0., 0., 0., 0., 0., 0., 0., 0., 0.], dtype=float32)"
      ]
     },
     "execution_count": 10,
     "metadata": {},
     "output_type": "execute_result"
    }
   ],
   "source": [
    "y_train[0]"
   ]
  },
  {
   "cell_type": "code",
   "execution_count": 11,
   "id": "d1216601",
   "metadata": {},
   "outputs": [
    {
     "name": "stdout",
     "output_type": "stream",
     "text": [
      "Model: \"sequential\"\n",
      "_________________________________________________________________\n",
      " Layer (type)                Output Shape              Param #   \n",
      "=================================================================\n",
      " embedding (Embedding)       (None, None, 100)         100000    \n",
      "                                                                 \n",
      " lstm (LSTM)                 (None, 100)               80400     \n",
      "                                                                 \n",
      " dense (Dense)               (None, 46)                4646      \n",
      "                                                                 \n",
      "=================================================================\n",
      "Total params: 185,046\n",
      "Trainable params: 185,046\n",
      "Non-trainable params: 0\n",
      "_________________________________________________________________\n"
     ]
    }
   ],
   "source": [
    "model = models.Sequential()\n",
    "model.add(layers.Embedding(1000, 100))\n",
    "model.add(layers.LSTM(100, activation='tanh'))\n",
    "model.add(layers.Dense(46, activation='softmax'))\n",
    "model.summary()"
   ]
  },
  {
   "cell_type": "code",
   "execution_count": 12,
   "id": "6b677326",
   "metadata": {},
   "outputs": [],
   "source": [
    "model.compile(loss='categorical_crossentropy', optimizer='adam',\n",
    "              metrics=['accuracy'])\n",
    "early_stopping = EarlyStopping(monitor='val_loss', patience=5)"
   ]
  },
  {
   "cell_type": "code",
   "execution_count": 14,
   "id": "bb8d664a",
   "metadata": {},
   "outputs": [
    {
     "name": "stdout",
     "output_type": "stream",
     "text": [
      "Epoch 1/200\n",
      "450/450 [==============================] - 21s 43ms/step - loss: 2.1990 - accuracy: 0.4446 - val_loss: 1.8418 - val_accuracy: 0.5298\n",
      "Epoch 2/200\n",
      "450/450 [==============================] - 19s 42ms/step - loss: 1.7804 - accuracy: 0.5493 - val_loss: 1.7306 - val_accuracy: 0.5779\n",
      "Epoch 3/200\n",
      "450/450 [==============================] - 19s 42ms/step - loss: 1.6175 - accuracy: 0.5880 - val_loss: 1.6335 - val_accuracy: 0.5886\n",
      "Epoch 4/200\n",
      "450/450 [==============================] - 19s 42ms/step - loss: 1.4435 - accuracy: 0.6384 - val_loss: 1.4312 - val_accuracy: 0.6411\n",
      "Epoch 5/200\n",
      "450/450 [==============================] - 19s 42ms/step - loss: 1.2916 - accuracy: 0.6736 - val_loss: 1.3733 - val_accuracy: 0.6523\n",
      "Epoch 6/200\n",
      "450/450 [==============================] - 19s 42ms/step - loss: 1.1870 - accuracy: 0.6974 - val_loss: 1.2548 - val_accuracy: 0.6790\n",
      "Epoch 7/200\n",
      "450/450 [==============================] - 19s 42ms/step - loss: 1.0719 - accuracy: 0.7267 - val_loss: 1.1904 - val_accuracy: 0.6923\n",
      "Epoch 8/200\n",
      "450/450 [==============================] - 19s 42ms/step - loss: 0.9738 - accuracy: 0.7540 - val_loss: 1.1585 - val_accuracy: 0.7061\n",
      "Epoch 9/200\n",
      "450/450 [==============================] - 19s 42ms/step - loss: 0.8974 - accuracy: 0.7723 - val_loss: 1.1263 - val_accuracy: 0.7253\n",
      "Epoch 10/200\n",
      "450/450 [==============================] - 19s 42ms/step - loss: 0.8239 - accuracy: 0.7902 - val_loss: 1.1395 - val_accuracy: 0.7253\n",
      "Epoch 11/200\n",
      "450/450 [==============================] - 19s 42ms/step - loss: 0.7682 - accuracy: 0.8038 - val_loss: 1.1210 - val_accuracy: 0.7280\n",
      "Epoch 12/200\n",
      "450/450 [==============================] - 19s 42ms/step - loss: 0.7059 - accuracy: 0.8189 - val_loss: 1.1237 - val_accuracy: 0.7253\n",
      "Epoch 13/200\n",
      "450/450 [==============================] - 19s 42ms/step - loss: 0.6487 - accuracy: 0.8370 - val_loss: 1.1543 - val_accuracy: 0.7191\n",
      "Epoch 14/200\n",
      "450/450 [==============================] - 19s 42ms/step - loss: 0.6021 - accuracy: 0.8473 - val_loss: 1.1682 - val_accuracy: 0.7293\n",
      "Epoch 15/200\n",
      "450/450 [==============================] - 19s 42ms/step - loss: 0.5473 - accuracy: 0.8633 - val_loss: 1.1978 - val_accuracy: 0.7293\n",
      "Epoch 16/200\n",
      "450/450 [==============================] - 19s 42ms/step - loss: 0.4957 - accuracy: 0.8737 - val_loss: 1.2408 - val_accuracy: 0.7231\n"
     ]
    }
   ],
   "source": [
    "h = model.fit(X_train, y_train, epochs=200, batch_size=20,\n",
    "             validation_data=(X_test, y_test),\n",
    "             callbacks=[early_stopping])"
   ]
  },
  {
   "cell_type": "code",
   "execution_count": 15,
   "id": "5aff8769",
   "metadata": {},
   "outputs": [
    {
     "data": {
      "image/png": "[encoded data removed]",
      "text/plain": [
       "<Figure size 640x480 with 1 Axes>"
      ]
     },
     "metadata": {},
     "output_type": "display_data"
    }
   ],
   "source": [
    "y_vloss = h.history['val_loss']\n",
    "y_loss = h.history['loss']\n",
    "\n",
    "# 그래프로 표현해 보겠습니다.\n",
    "x_len = np.arange(len(y_loss))\n",
    "plt.plot(x_len, y_vloss, marker='.', c=\"red\", label='Testset_loss')\n",
    "plt.plot(x_len, y_loss, marker='.', c=\"blue\", label='Trainset_loss')\n",
    "\n",
    "# 그래프에 그리드를 주고 레이블을 표시하겠습니다. \n",
    "plt.legend(loc='upper right')\n",
    "plt.grid()\n",
    "plt.xlabel('epoch')\n",
    "plt.ylabel('loss')\n",
    "plt.show()"
   ]
  },
  {
   "cell_type": "code",
   "execution_count": null,
   "id": "a48252d9",
   "metadata": {},
   "outputs": [],
   "source": []
  }
 ],
 "metadata": {
  "kernelspec": {
   "display_name": "Python 3 (ipykernel)",
   "language": "python",
   "name": "python3"
  },
  "language_info": {
   "codemirror_mode": {
    "name": "ipython",
    "version": 3
   },
   "file_extension": ".py",
   "mimetype": "text/x-python",
   "name": "python",
   "nbconvert_exporter": "python",
   "pygments_lexer": "ipython3",
   "version": "3.9.17"
  }
 },
 "nbformat": 4,
 "nbformat_minor": 5
}
