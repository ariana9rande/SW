{
 "cells": [
  {
   "cell_type": "code",
   "execution_count": 22,
   "id": "4a5e124a",
   "metadata": {},
   "outputs": [],
   "source": [
    "from tensorflow.keras import models, layers\n",
    "from sklearn.model_selection import train_test_split\n",
    "import pandas as pd\n",
    "from tensorflow.keras.callbacks import ModelCheckpoint\n",
    "import numpy as np\n",
    "import os"
   ]
  },
  {
   "cell_type": "code",
   "execution_count": 2,
   "id": "a1ae26d9",
   "metadata": {},
   "outputs": [
    {
     "data": {
      "text/html": [
       "<div>\n",
       "<style scoped>\n",
       "    .dataframe tbody tr th:only-of-type {\n",
       "        vertical-align: middle;\n",
       "    }\n",
       "\n",
       "    .dataframe tbody tr th {\n",
       "        vertical-align: top;\n",
       "    }\n",
       "\n",
       "    .dataframe thead th {\n",
       "        text-align: right;\n",
       "    }\n",
       "</style>\n",
       "<table border=\"1\" class=\"dataframe\">\n",
       "  <thead>\n",
       "    <tr style=\"text-align: right;\">\n",
       "      <th></th>\n",
       "      <th>0</th>\n",
       "      <th>1</th>\n",
       "      <th>2</th>\n",
       "      <th>3</th>\n",
       "      <th>4</th>\n",
       "      <th>5</th>\n",
       "      <th>6</th>\n",
       "      <th>7</th>\n",
       "      <th>8</th>\n",
       "      <th>9</th>\n",
       "      <th>10</th>\n",
       "      <th>11</th>\n",
       "      <th>12</th>\n",
       "    </tr>\n",
       "  </thead>\n",
       "  <tbody>\n",
       "    <tr>\n",
       "      <th>0</th>\n",
       "      <td>7.4</td>\n",
       "      <td>0.70</td>\n",
       "      <td>0.00</td>\n",
       "      <td>1.9</td>\n",
       "      <td>0.076</td>\n",
       "      <td>11.0</td>\n",
       "      <td>34.0</td>\n",
       "      <td>0.9978</td>\n",
       "      <td>3.51</td>\n",
       "      <td>0.56</td>\n",
       "      <td>9.4</td>\n",
       "      <td>5</td>\n",
       "      <td>1</td>\n",
       "    </tr>\n",
       "    <tr>\n",
       "      <th>1</th>\n",
       "      <td>7.8</td>\n",
       "      <td>0.88</td>\n",
       "      <td>0.00</td>\n",
       "      <td>2.6</td>\n",
       "      <td>0.098</td>\n",
       "      <td>25.0</td>\n",
       "      <td>67.0</td>\n",
       "      <td>0.9968</td>\n",
       "      <td>3.20</td>\n",
       "      <td>0.68</td>\n",
       "      <td>9.8</td>\n",
       "      <td>5</td>\n",
       "      <td>1</td>\n",
       "    </tr>\n",
       "    <tr>\n",
       "      <th>2</th>\n",
       "      <td>7.8</td>\n",
       "      <td>0.76</td>\n",
       "      <td>0.04</td>\n",
       "      <td>2.3</td>\n",
       "      <td>0.092</td>\n",
       "      <td>15.0</td>\n",
       "      <td>54.0</td>\n",
       "      <td>0.9970</td>\n",
       "      <td>3.26</td>\n",
       "      <td>0.65</td>\n",
       "      <td>9.8</td>\n",
       "      <td>5</td>\n",
       "      <td>1</td>\n",
       "    </tr>\n",
       "    <tr>\n",
       "      <th>3</th>\n",
       "      <td>11.2</td>\n",
       "      <td>0.28</td>\n",
       "      <td>0.56</td>\n",
       "      <td>1.9</td>\n",
       "      <td>0.075</td>\n",
       "      <td>17.0</td>\n",
       "      <td>60.0</td>\n",
       "      <td>0.9980</td>\n",
       "      <td>3.16</td>\n",
       "      <td>0.58</td>\n",
       "      <td>9.8</td>\n",
       "      <td>6</td>\n",
       "      <td>1</td>\n",
       "    </tr>\n",
       "    <tr>\n",
       "      <th>4</th>\n",
       "      <td>7.4</td>\n",
       "      <td>0.70</td>\n",
       "      <td>0.00</td>\n",
       "      <td>1.9</td>\n",
       "      <td>0.076</td>\n",
       "      <td>11.0</td>\n",
       "      <td>34.0</td>\n",
       "      <td>0.9978</td>\n",
       "      <td>3.51</td>\n",
       "      <td>0.56</td>\n",
       "      <td>9.4</td>\n",
       "      <td>5</td>\n",
       "      <td>1</td>\n",
       "    </tr>\n",
       "  </tbody>\n",
       "</table>\n",
       "</div>"
      ],
      "text/plain": [
       "     0     1     2    3      4     5     6       7     8     9    10  11  12\n",
       "0   7.4  0.70  0.00  1.9  0.076  11.0  34.0  0.9978  3.51  0.56  9.4   5   1\n",
       "1   7.8  0.88  0.00  2.6  0.098  25.0  67.0  0.9968  3.20  0.68  9.8   5   1\n",
       "2   7.8  0.76  0.04  2.3  0.092  15.0  54.0  0.9970  3.26  0.65  9.8   5   1\n",
       "3  11.2  0.28  0.56  1.9  0.075  17.0  60.0  0.9980  3.16  0.58  9.8   6   1\n",
       "4   7.4  0.70  0.00  1.9  0.076  11.0  34.0  0.9978  3.51  0.56  9.4   5   1"
      ]
     },
     "execution_count": 2,
     "metadata": {},
     "output_type": "execute_result"
    }
   ],
   "source": [
    "df = pd.read_csv('data/wine.csv', header=None)\n",
    "df.head()"
   ]
  },
  {
   "cell_type": "code",
   "execution_count": 3,
   "id": "e851433f",
   "metadata": {},
   "outputs": [],
   "source": [
    "X = df.iloc[:, :-1]\n",
    "y = df.iloc[:, -1]"
   ]
  },
  {
   "cell_type": "code",
   "execution_count": 4,
   "id": "fe9628ac",
   "metadata": {},
   "outputs": [],
   "source": [
    "X_train, X_test, y_train, y_test = train_test_split(X, y, test_size=0.2,\n",
    "                                                    shuffle=True)"
   ]
  },
  {
   "cell_type": "code",
   "execution_count": 5,
   "id": "e9a7d43f",
   "metadata": {},
   "outputs": [],
   "source": [
    "model = models.Sequential()\n",
    "model.add(layers.Dense(30, input_dim=12, activation='relu'))\n",
    "model.add(layers.Dense(12, activation='relu'))\n",
    "model.add(layers.Dense(8, activation='relu'))\n",
    "model.add(layers.Dense(1, activation='sigmoid'))"
   ]
  },
  {
   "cell_type": "code",
   "execution_count": 6,
   "id": "2f5eaf94",
   "metadata": {},
   "outputs": [],
   "source": [
    "model.compile(loss='binary_crossentropy', optimizer='adam', metrics=['accuracy'])"
   ]
  },
  {
   "cell_type": "code",
   "execution_count": 7,
   "id": "299952d9",
   "metadata": {},
   "outputs": [],
   "source": [
    "MODEL_DIR = 'model/'\n",
    "\n",
    "if not os.path.exists(MODEL_DIR):\n",
    "    os.mkdir(MODEL_DIR)\n",
    "    \n",
    "modelpath = MODEL_DIR + '{epoch:02d}-{val_accuracy:.4f}.hdf5'\n",
    "\n",
    "checkpoint = ModelCheckpoint(filepath=modelpath, verbose=1)"
   ]
  },
  {
   "cell_type": "code",
   "execution_count": 8,
   "id": "61bf1087",
   "metadata": {},
   "outputs": [
    {
     "name": "stdout",
     "output_type": "stream",
     "text": [
      "\n",
      "Epoch 1: saving model to model\\01-0.8646.hdf5\n",
      "\n",
      "Epoch 2: saving model to model\\02-0.8185.hdf5\n",
      "\n",
      "Epoch 3: saving model to model\\03-0.9031.hdf5\n",
      "\n",
      "Epoch 4: saving model to model\\04-0.9269.hdf5\n",
      "\n",
      "Epoch 5: saving model to model\\05-0.9208.hdf5\n",
      "\n",
      "Epoch 6: saving model to model\\06-0.9323.hdf5\n",
      "\n",
      "Epoch 7: saving model to model\\07-0.9323.hdf5\n",
      "\n",
      "Epoch 8: saving model to model\\08-0.9308.hdf5\n",
      "\n",
      "Epoch 9: saving model to model\\09-0.9269.hdf5\n",
      "\n",
      "Epoch 10: saving model to model\\10-0.9300.hdf5\n",
      "\n",
      "Epoch 11: saving model to model\\11-0.9315.hdf5\n",
      "\n",
      "Epoch 12: saving model to model\\12-0.9369.hdf5\n",
      "\n",
      "Epoch 13: saving model to model\\13-0.9354.hdf5\n",
      "\n",
      "Epoch 14: saving model to model\\14-0.9354.hdf5\n",
      "\n",
      "Epoch 15: saving model to model\\15-0.9338.hdf5\n",
      "\n",
      "Epoch 16: saving model to model\\16-0.9331.hdf5\n",
      "\n",
      "Epoch 17: saving model to model\\17-0.9369.hdf5\n",
      "\n",
      "Epoch 18: saving model to model\\18-0.9369.hdf5\n",
      "\n",
      "Epoch 19: saving model to model\\19-0.9369.hdf5\n",
      "\n",
      "Epoch 20: saving model to model\\20-0.9369.hdf5\n",
      "\n",
      "Epoch 21: saving model to model\\21-0.9377.hdf5\n",
      "\n",
      "Epoch 22: saving model to model\\22-0.9369.hdf5\n",
      "\n",
      "Epoch 23: saving model to model\\23-0.9369.hdf5\n",
      "\n",
      "Epoch 24: saving model to model\\24-0.9377.hdf5\n",
      "\n",
      "Epoch 25: saving model to model\\25-0.9392.hdf5\n",
      "\n",
      "Epoch 26: saving model to model\\26-0.9385.hdf5\n",
      "\n",
      "Epoch 27: saving model to model\\27-0.9385.hdf5\n",
      "\n",
      "Epoch 28: saving model to model\\28-0.9377.hdf5\n",
      "\n",
      "Epoch 29: saving model to model\\29-0.9377.hdf5\n",
      "\n",
      "Epoch 30: saving model to model\\30-0.9385.hdf5\n",
      "\n",
      "Epoch 31: saving model to model\\31-0.9362.hdf5\n",
      "\n",
      "Epoch 32: saving model to model\\32-0.9400.hdf5\n",
      "\n",
      "Epoch 33: saving model to model\\33-0.9400.hdf5\n",
      "\n",
      "Epoch 34: saving model to model\\34-0.9400.hdf5\n",
      "\n",
      "Epoch 35: saving model to model\\35-0.9392.hdf5\n",
      "\n",
      "Epoch 36: saving model to model\\36-0.9400.hdf5\n",
      "\n",
      "Epoch 37: saving model to model\\37-0.9431.hdf5\n",
      "\n",
      "Epoch 38: saving model to model\\38-0.9408.hdf5\n",
      "\n",
      "Epoch 39: saving model to model\\39-0.9408.hdf5\n",
      "\n",
      "Epoch 40: saving model to model\\40-0.9415.hdf5\n",
      "\n",
      "Epoch 41: saving model to model\\41-0.9408.hdf5\n",
      "\n",
      "Epoch 42: saving model to model\\42-0.9423.hdf5\n",
      "\n",
      "Epoch 43: saving model to model\\43-0.9438.hdf5\n",
      "\n",
      "Epoch 44: saving model to model\\44-0.9462.hdf5\n",
      "\n",
      "Epoch 45: saving model to model\\45-0.9477.hdf5\n",
      "\n",
      "Epoch 46: saving model to model\\46-0.9538.hdf5\n",
      "\n",
      "Epoch 47: saving model to model\\47-0.9531.hdf5\n",
      "\n",
      "Epoch 48: saving model to model\\48-0.9546.hdf5\n",
      "\n",
      "Epoch 49: saving model to model\\49-0.9554.hdf5\n",
      "\n",
      "Epoch 50: saving model to model\\50-0.9577.hdf5\n"
     ]
    }
   ],
   "source": [
    "h = model.fit(X_train, y_train, epochs=50, batch_size=500,\n",
    "             validation_split=0.25, verbose=0, callbacks=[checkpoint])"
   ]
  },
  {
   "cell_type": "code",
   "execution_count": 12,
   "id": "13c71c2f",
   "metadata": {
    "scrolled": true
   },
   "outputs": [
    {
     "name": "stdout",
     "output_type": "stream",
     "text": [
      "41/41 [==============================] - 0s 1ms/step - loss: 0.1300 - accuracy: 0.9546\n",
      "Test Accuracy : 0.9546\n"
     ]
    }
   ],
   "source": [
    "score = model.evaluate(X_test, y_test)\n",
    "print('Test Accuracy : %.4f' % (score[1]))"
   ]
  },
  {
   "cell_type": "code",
   "execution_count": 13,
   "id": "8f49f384",
   "metadata": {},
   "outputs": [],
   "source": [
    "model = models.Sequential()\n",
    "model.add(layers.Dense(30, input_dim=12, activation='relu'))\n",
    "model.add(layers.Dense(12, activation='relu'))\n",
    "model.add(layers.Dense(8, activation='relu'))\n",
    "model.add(layers.Dense(1, activation='sigmoid'))"
   ]
  },
  {
   "cell_type": "code",
   "execution_count": 14,
   "id": "0003898b",
   "metadata": {},
   "outputs": [],
   "source": [
    "model.compile(loss='binary_crossentropy', optimizer='adam',\n",
    "             metrics=['accuracy'])"
   ]
  },
  {
   "cell_type": "code",
   "execution_count": 15,
   "id": "4a601d11",
   "metadata": {},
   "outputs": [],
   "source": [
    "import matplotlib.pyplot as plt"
   ]
  },
  {
   "cell_type": "code",
   "execution_count": 16,
   "id": "ae875415",
   "metadata": {},
   "outputs": [],
   "source": [
    "h = model.fit(X_train, y_train, epochs=2000, batch_size=500,\n",
    "             validation_split=0.25, verbose=0)"
   ]
  },
  {
   "cell_type": "code",
   "execution_count": 19,
   "id": "f1bafb40",
   "metadata": {},
   "outputs": [
    {
     "data": {
      "text/html": [
       "<div>\n",
       "<style scoped>\n",
       "    .dataframe tbody tr th:only-of-type {\n",
       "        vertical-align: middle;\n",
       "    }\n",
       "\n",
       "    .dataframe tbody tr th {\n",
       "        vertical-align: top;\n",
       "    }\n",
       "\n",
       "    .dataframe thead th {\n",
       "        text-align: right;\n",
       "    }\n",
       "</style>\n",
       "<table border=\"1\" class=\"dataframe\">\n",
       "  <thead>\n",
       "    <tr style=\"text-align: right;\">\n",
       "      <th></th>\n",
       "      <th>loss</th>\n",
       "      <th>accuracy</th>\n",
       "      <th>val_loss</th>\n",
       "      <th>val_accuracy</th>\n",
       "    </tr>\n",
       "  </thead>\n",
       "  <tbody>\n",
       "    <tr>\n",
       "      <th>0</th>\n",
       "      <td>6.445968</td>\n",
       "      <td>0.250962</td>\n",
       "      <td>2.705348</td>\n",
       "      <td>0.233077</td>\n",
       "    </tr>\n",
       "    <tr>\n",
       "      <th>1</th>\n",
       "      <td>1.098937</td>\n",
       "      <td>0.557352</td>\n",
       "      <td>0.270117</td>\n",
       "      <td>0.920000</td>\n",
       "    </tr>\n",
       "    <tr>\n",
       "      <th>2</th>\n",
       "      <td>0.359120</td>\n",
       "      <td>0.876059</td>\n",
       "      <td>0.418524</td>\n",
       "      <td>0.856154</td>\n",
       "    </tr>\n",
       "    <tr>\n",
       "      <th>3</th>\n",
       "      <td>0.470317</td>\n",
       "      <td>0.848088</td>\n",
       "      <td>0.442617</td>\n",
       "      <td>0.856154</td>\n",
       "    </tr>\n",
       "    <tr>\n",
       "      <th>4</th>\n",
       "      <td>0.440289</td>\n",
       "      <td>0.862972</td>\n",
       "      <td>0.361258</td>\n",
       "      <td>0.878462</td>\n",
       "    </tr>\n",
       "  </tbody>\n",
       "</table>\n",
       "</div>"
      ],
      "text/plain": [
       "       loss  accuracy  val_loss  val_accuracy\n",
       "0  6.445968  0.250962  2.705348      0.233077\n",
       "1  1.098937  0.557352  0.270117      0.920000\n",
       "2  0.359120  0.876059  0.418524      0.856154\n",
       "3  0.470317  0.848088  0.442617      0.856154\n",
       "4  0.440289  0.862972  0.361258      0.878462"
      ]
     },
     "execution_count": 19,
     "metadata": {},
     "output_type": "execute_result"
    }
   ],
   "source": [
    "hist_df = pd.DataFrame(h.history)\n",
    "hist_df.head()"
   ]
  },
  {
   "cell_type": "code",
   "execution_count": 20,
   "id": "c199757c",
   "metadata": {
    "scrolled": true
   },
   "outputs": [
    {
     "name": "stdout",
     "output_type": "stream",
     "text": [
      "<class 'pandas.core.frame.DataFrame'>\n",
      "RangeIndex: 2000 entries, 0 to 1999\n",
      "Data columns (total 4 columns):\n",
      " #   Column        Non-Null Count  Dtype  \n",
      "---  ------        --------------  -----  \n",
      " 0   loss          2000 non-null   float64\n",
      " 1   accuracy      2000 non-null   float64\n",
      " 2   val_loss      2000 non-null   float64\n",
      " 3   val_accuracy  2000 non-null   float64\n",
      "dtypes: float64(4)\n",
      "memory usage: 62.6 KB\n"
     ]
    }
   ],
   "source": [
    "hist_df.info()"
   ]
  },
  {
   "cell_type": "code",
   "execution_count": 23,
   "id": "81c67465",
   "metadata": {
    "scrolled": false
   },
   "outputs": [
    {
     "data": {
      "image/png": "[encoded data removed]",
      "text/plain": [
       "<Figure size 640x480 with 1 Axes>"
      ]
     },
     "metadata": {},
     "output_type": "display_data"
    }
   ],
   "source": [
    "y_vloss = hist_df['val_loss']\n",
    "y_loss = hist_df['loss']\n",
    "\n",
    "x_len = np.arange(len(y_loss))\n",
    "\n",
    "plt.plot(x_len, y_vloss, 'o', c='red', markersize=2, label='Test_loss')\n",
    "plt.plot(x_len, y_loss, 'o', c='blue', markersize=2, label='Train_loss')\n",
    "plt.legend()\n",
    "plt.xlabel('epoch')\n",
    "plt.ylabel('loss')\n",
    "plt.show()"
   ]
  },
  {
   "cell_type": "code",
   "execution_count": null,
   "id": "db3ac162",
   "metadata": {},
   "outputs": [],
   "source": []
  }
 ],
 "metadata": {
  "kernelspec": {
   "display_name": "Python 3 (ipykernel)",
   "language": "python",
   "name": "python3"
  },
  "language_info": {
   "codemirror_mode": {
    "name": "ipython",
    "version": 3
   },
   "file_extension": ".py",
   "mimetype": "text/x-python",
   "name": "python",
   "nbconvert_exporter": "python",
   "pygments_lexer": "ipython3",
   "version": "3.9.17"
  }
 },
 "nbformat": 4,
 "nbformat_minor": 5
}
