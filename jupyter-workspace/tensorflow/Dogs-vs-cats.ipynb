{
 "cells": [
  {
   "cell_type": "code",
   "execution_count": 1,
   "id": "2911727a",
   "metadata": {},
   "outputs": [],
   "source": [
    "train_dir = 'data/dogs-vs-cats/train'\n",
    "test_dir = 'data/dogs-vs-cats/test'"
   ]
  },
  {
   "cell_type": "code",
   "execution_count": 2,
   "id": "b0d194b3",
   "metadata": {},
   "outputs": [],
   "source": [
    "from tensorflow.keras import layers, models\n",
    "from tensorflow.keras.callbacks import EarlyStopping, ModelCheckpoint\n",
    "import os\n",
    "os.environ['KMP_DUPLICATE_LIB_OK'] = '1'"
   ]
  },
  {
   "cell_type": "code",
   "execution_count": 3,
   "id": "2b424916",
   "metadata": {},
   "outputs": [],
   "source": [
    "model = models.Sequential()\n",
    "model.add(layers.Conv2D(32, (3, 3), activation='relu', input_shape=(150, 150, 3)))\n",
    "model.add(layers.MaxPooling2D((2, 2)))\n",
    "model.add(layers.Conv2D(64, (3, 3), activation='relu'))\n",
    "model.add(layers.MaxPooling2D((2, 2)))\n",
    "model.add(layers.Conv2D(128, (3, 3), activation='relu'))\n",
    "model.add(layers.MaxPooling2D((2, 2)))\n",
    "model.add(layers.Conv2D(128, (3, 3), activation='relu'))\n",
    "model.add(layers.MaxPooling2D((2, 2)))\n",
    "model.add(layers.Flatten())\n",
    "model.add(layers.Dropout(0.5))\n",
    "model.add(layers.Dense(512, activation='relu'))\n",
    "model.add(layers.Dense(1, activation ='sigmoid'))"
   ]
  },
  {
   "cell_type": "code",
   "execution_count": 4,
   "id": "0f407b74",
   "metadata": {},
   "outputs": [
    {
     "name": "stdout",
     "output_type": "stream",
     "text": [
      "Model: \"sequential\"\n",
      "_________________________________________________________________\n",
      " Layer (type)                Output Shape              Param #   \n",
      "=================================================================\n",
      " conv2d (Conv2D)             (None, 148, 148, 32)      896       \n",
      "                                                                 \n",
      " max_pooling2d (MaxPooling2D  (None, 74, 74, 32)       0         \n",
      " )                                                               \n",
      "                                                                 \n",
      " conv2d_1 (Conv2D)           (None, 72, 72, 64)        18496     \n",
      "                                                                 \n",
      " max_pooling2d_1 (MaxPooling  (None, 36, 36, 64)       0         \n",
      " 2D)                                                             \n",
      "                                                                 \n",
      " conv2d_2 (Conv2D)           (None, 34, 34, 128)       73856     \n",
      "                                                                 \n",
      " max_pooling2d_2 (MaxPooling  (None, 17, 17, 128)      0         \n",
      " 2D)                                                             \n",
      "                                                                 \n",
      " conv2d_3 (Conv2D)           (None, 15, 15, 128)       147584    \n",
      "                                                                 \n",
      " max_pooling2d_3 (MaxPooling  (None, 7, 7, 128)        0         \n",
      " 2D)                                                             \n",
      "                                                                 \n",
      " flatten (Flatten)           (None, 6272)              0         \n",
      "                                                                 \n",
      " dropout (Dropout)           (None, 6272)              0         \n",
      "                                                                 \n",
      " dense (Dense)               (None, 512)               3211776   \n",
      "                                                                 \n",
      " dense_1 (Dense)             (None, 1)                 513       \n",
      "                                                                 \n",
      "=================================================================\n",
      "Total params: 3,453,121\n",
      "Trainable params: 3,453,121\n",
      "Non-trainable params: 0\n",
      "_________________________________________________________________\n"
     ]
    }
   ],
   "source": [
    "model.summary()"
   ]
  },
  {
   "cell_type": "code",
   "execution_count": 5,
   "id": "29daefb2",
   "metadata": {},
   "outputs": [],
   "source": [
    "model.compile(loss='binary_crossentropy', optimizer='adam', metrics=['accuracy'])"
   ]
  },
  {
   "cell_type": "code",
   "execution_count": 6,
   "id": "6bbbe24b",
   "metadata": {},
   "outputs": [
    {
     "name": "stdout",
     "output_type": "stream",
     "text": [
      "Found 20000 images belonging to 2 classes.\n",
      "Found 5000 images belonging to 2 classes.\n"
     ]
    }
   ],
   "source": [
    "from tensorflow.keras.preprocessing.image import ImageDataGenerator\n",
    "\n",
    "train_datagen = ImageDataGenerator(rescale=1./255)\n",
    "test_datagen = ImageDataGenerator(rescale=1./255)\n",
    "\n",
    "train_generator = train_datagen.flow_from_directory(\n",
    "            train_dir, target_size=(150, 150), batch_size=20, class_mode='binary')\n",
    "validation_generator = test_datagen.flow_from_directory(\n",
    "            test_dir, target_size=(150, 150), batch_size=20, class_mode='binary')"
   ]
  },
  {
   "cell_type": "code",
   "execution_count": 7,
   "id": "1bc66573",
   "metadata": {},
   "outputs": [],
   "source": [
    "early_stopping = EarlyStopping(monitor='val_loss', patience=10)\n",
    "\n",
    "\n",
    "modelpath = 'model/dogs-vs-cats.hdf5'\n",
    "\n",
    "checkpoint = ModelCheckpoint(filepath=modelpath, verbose=0, monitor='val_loss',\n",
    "                            save_best_only=True)"
   ]
  },
  {
   "cell_type": "code",
   "execution_count": 8,
   "id": "b40b61ce",
   "metadata": {
    "scrolled": false
   },
   "outputs": [
    {
     "name": "stdout",
     "output_type": "stream",
     "text": [
      "Epoch 1/30\n",
      "1000/1000 [==============================] - ETA: 0s - loss: 0.6635 - accuracy: 0.5863WARNING:tensorflow:Early stopping conditioned on metric `val_ross` which is not available. Available metrics are: loss,accuracy,val_loss,val_accuracy\n",
      "1000/1000 [==============================] - 797s 797ms/step - loss: 0.6635 - accuracy: 0.5863 - val_loss: 0.5985 - val_accuracy: 0.6752\n",
      "Epoch 2/30\n",
      "1000/1000 [==============================] - ETA: 0s - loss: 0.5786 - accuracy: 0.7003WARNING:tensorflow:Early stopping conditioned on metric `val_ross` which is not available. Available metrics are: loss,accuracy,val_loss,val_accuracy\n",
      "1000/1000 [==============================] - 528s 527ms/step - loss: 0.5786 - accuracy: 0.7003 - val_loss: 0.5026 - val_accuracy: 0.7540\n",
      "Epoch 3/30\n",
      "1000/1000 [==============================] - ETA: 0s - loss: 0.4859 - accuracy: 0.7684WARNING:tensorflow:Early stopping conditioned on metric `val_ross` which is not available. Available metrics are: loss,accuracy,val_loss,val_accuracy\n",
      "1000/1000 [==============================] - 130s 130ms/step - loss: 0.4859 - accuracy: 0.7684 - val_loss: 0.4213 - val_accuracy: 0.8074\n",
      "Epoch 4/30\n",
      "1000/1000 [==============================] - ETA: 0s - loss: 0.4143 - accuracy: 0.8133WARNING:tensorflow:Early stopping conditioned on metric `val_ross` which is not available. Available metrics are: loss,accuracy,val_loss,val_accuracy\n",
      "1000/1000 [==============================] - 129s 129ms/step - loss: 0.4143 - accuracy: 0.8133 - val_loss: 0.4537 - val_accuracy: 0.8094\n",
      "Epoch 5/30\n",
      "1000/1000 [==============================] - ETA: 0s - loss: 0.3589 - accuracy: 0.8458WARNING:tensorflow:Early stopping conditioned on metric `val_ross` which is not available. Available metrics are: loss,accuracy,val_loss,val_accuracy\n",
      "1000/1000 [==============================] - 127s 127ms/step - loss: 0.3589 - accuracy: 0.8458 - val_loss: 0.3357 - val_accuracy: 0.8516\n",
      "Epoch 6/30\n",
      "1000/1000 [==============================] - ETA: 0s - loss: 0.3232 - accuracy: 0.8613WARNING:tensorflow:Early stopping conditioned on metric `val_ross` which is not available. Available metrics are: loss,accuracy,val_loss,val_accuracy\n",
      "1000/1000 [==============================] - 126s 126ms/step - loss: 0.3232 - accuracy: 0.8613 - val_loss: 0.3714 - val_accuracy: 0.8372\n",
      "Epoch 7/30\n",
      "1000/1000 [==============================] - ETA: 0s - loss: 0.2918 - accuracy: 0.8744WARNING:tensorflow:Early stopping conditioned on metric `val_ross` which is not available. Available metrics are: loss,accuracy,val_loss,val_accuracy\n",
      "1000/1000 [==============================] - 133s 132ms/step - loss: 0.2918 - accuracy: 0.8744 - val_loss: 0.3008 - val_accuracy: 0.8690\n",
      "Epoch 8/30\n",
      "1000/1000 [==============================] - ETA: 0s - loss: 0.2553 - accuracy: 0.8911WARNING:tensorflow:Early stopping conditioned on metric `val_ross` which is not available. Available metrics are: loss,accuracy,val_loss,val_accuracy\n",
      "1000/1000 [==============================] - 129s 129ms/step - loss: 0.2553 - accuracy: 0.8911 - val_loss: 0.2951 - val_accuracy: 0.8704\n",
      "Epoch 9/30\n",
      "1000/1000 [==============================] - ETA: 0s - loss: 0.2287 - accuracy: 0.9026WARNING:tensorflow:Early stopping conditioned on metric `val_ross` which is not available. Available metrics are: loss,accuracy,val_loss,val_accuracy\n",
      "1000/1000 [==============================] - 130s 130ms/step - loss: 0.2287 - accuracy: 0.9026 - val_loss: 0.2832 - val_accuracy: 0.8828\n",
      "Epoch 10/30\n",
      "1000/1000 [==============================] - ETA: 0s - loss: 0.2036 - accuracy: 0.9168WARNING:tensorflow:Early stopping conditioned on metric `val_ross` which is not available. Available metrics are: loss,accuracy,val_loss,val_accuracy\n",
      "1000/1000 [==============================] - 130s 130ms/step - loss: 0.2036 - accuracy: 0.9168 - val_loss: 0.2602 - val_accuracy: 0.8896\n",
      "Epoch 11/30\n",
      "1000/1000 [==============================] - ETA: 0s - loss: 0.1787 - accuracy: 0.9273WARNING:tensorflow:Early stopping conditioned on metric `val_ross` which is not available. Available metrics are: loss,accuracy,val_loss,val_accuracy\n",
      "1000/1000 [==============================] - 129s 129ms/step - loss: 0.1787 - accuracy: 0.9273 - val_loss: 0.2750 - val_accuracy: 0.8848\n",
      "Epoch 12/30\n",
      "1000/1000 [==============================] - ETA: 0s - loss: 0.1620 - accuracy: 0.9355WARNING:tensorflow:Early stopping conditioned on metric `val_ross` which is not available. Available metrics are: loss,accuracy,val_loss,val_accuracy\n",
      "1000/1000 [==============================] - 136s 136ms/step - loss: 0.1620 - accuracy: 0.9355 - val_loss: 0.3004 - val_accuracy: 0.8772\n",
      "Epoch 13/30\n",
      "1000/1000 [==============================] - ETA: 0s - loss: 0.1494 - accuracy: 0.9394WARNING:tensorflow:Early stopping conditioned on metric `val_ross` which is not available. Available metrics are: loss,accuracy,val_loss,val_accuracy\n",
      "1000/1000 [==============================] - 129s 129ms/step - loss: 0.1494 - accuracy: 0.9394 - val_loss: 0.2837 - val_accuracy: 0.8824\n",
      "Epoch 14/30\n",
      "1000/1000 [==============================] - ETA: 0s - loss: 0.1388 - accuracy: 0.9459WARNING:tensorflow:Early stopping conditioned on metric `val_ross` which is not available. Available metrics are: loss,accuracy,val_loss,val_accuracy\n",
      "1000/1000 [==============================] - 129s 129ms/step - loss: 0.1388 - accuracy: 0.9459 - val_loss: 0.3116 - val_accuracy: 0.8860\n",
      "Epoch 15/30\n",
      "1000/1000 [==============================] - ETA: 0s - loss: 0.1178 - accuracy: 0.9518WARNING:tensorflow:Early stopping conditioned on metric `val_ross` which is not available. Available metrics are: loss,accuracy,val_loss,val_accuracy\n",
      "1000/1000 [==============================] - 130s 130ms/step - loss: 0.1178 - accuracy: 0.9518 - val_loss: 0.3805 - val_accuracy: 0.8730\n",
      "Epoch 16/30\n",
      "1000/1000 [==============================] - ETA: 0s - loss: 0.1213 - accuracy: 0.9535WARNING:tensorflow:Early stopping conditioned on metric `val_ross` which is not available. Available metrics are: loss,accuracy,val_loss,val_accuracy\n",
      "1000/1000 [==============================] - 131s 131ms/step - loss: 0.1213 - accuracy: 0.9535 - val_loss: 0.3118 - val_accuracy: 0.8804\n",
      "Epoch 17/30\n",
      "1000/1000 [==============================] - ETA: 0s - loss: 0.1072 - accuracy: 0.9588WARNING:tensorflow:Early stopping conditioned on metric `val_ross` which is not available. Available metrics are: loss,accuracy,val_loss,val_accuracy\n",
      "1000/1000 [==============================] - 134s 134ms/step - loss: 0.1072 - accuracy: 0.9588 - val_loss: 0.3102 - val_accuracy: 0.8926\n",
      "Epoch 18/30\n",
      "1000/1000 [==============================] - ETA: 0s - loss: 0.0949 - accuracy: 0.9650WARNING:tensorflow:Early stopping conditioned on metric `val_ross` which is not available. Available metrics are: loss,accuracy,val_loss,val_accuracy\n",
      "1000/1000 [==============================] - 128s 128ms/step - loss: 0.0949 - accuracy: 0.9650 - val_loss: 0.3255 - val_accuracy: 0.8958\n",
      "Epoch 19/30\n",
      "1000/1000 [==============================] - ETA: 0s - loss: 0.0924 - accuracy: 0.9646WARNING:tensorflow:Early stopping conditioned on metric `val_ross` which is not available. Available metrics are: loss,accuracy,val_loss,val_accuracy\n",
      "1000/1000 [==============================] - 130s 130ms/step - loss: 0.0924 - accuracy: 0.9646 - val_loss: 0.3088 - val_accuracy: 0.8932\n",
      "Epoch 20/30\n",
      "1000/1000 [==============================] - ETA: 0s - loss: 0.0892 - accuracy: 0.9680WARNING:tensorflow:Early stopping conditioned on metric `val_ross` which is not available. Available metrics are: loss,accuracy,val_loss,val_accuracy\n",
      "1000/1000 [==============================] - 133s 133ms/step - loss: 0.0892 - accuracy: 0.9680 - val_loss: 0.3301 - val_accuracy: 0.8890\n",
      "Epoch 21/30\n",
      "1000/1000 [==============================] - ETA: 0s - loss: 0.0767 - accuracy: 0.9722WARNING:tensorflow:Early stopping conditioned on metric `val_ross` which is not available. Available metrics are: loss,accuracy,val_loss,val_accuracy\n",
      "1000/1000 [==============================] - 142s 142ms/step - loss: 0.0767 - accuracy: 0.9722 - val_loss: 0.3366 - val_accuracy: 0.8904\n",
      "Epoch 22/30\n",
      "1000/1000 [==============================] - ETA: 0s - loss: 0.0730 - accuracy: 0.9735WARNING:tensorflow:Early stopping conditioned on metric `val_ross` which is not available. Available metrics are: loss,accuracy,val_loss,val_accuracy\n"
     ]
    },
    {
     "name": "stdout",
     "output_type": "stream",
     "text": [
      "1000/1000 [==============================] - 138s 138ms/step - loss: 0.0730 - accuracy: 0.9735 - val_loss: 0.3394 - val_accuracy: 0.8974\n",
      "Epoch 23/30\n",
      "1000/1000 [==============================] - ETA: 0s - loss: 0.0736 - accuracy: 0.9739WARNING:tensorflow:Early stopping conditioned on metric `val_ross` which is not available. Available metrics are: loss,accuracy,val_loss,val_accuracy\n",
      "1000/1000 [==============================] - 123s 123ms/step - loss: 0.0736 - accuracy: 0.9739 - val_loss: 0.3013 - val_accuracy: 0.8950\n",
      "Epoch 24/30\n",
      "1000/1000 [==============================] - ETA: 0s - loss: 0.0704 - accuracy: 0.9747WARNING:tensorflow:Early stopping conditioned on metric `val_ross` which is not available. Available metrics are: loss,accuracy,val_loss,val_accuracy\n",
      "1000/1000 [==============================] - 129s 129ms/step - loss: 0.0704 - accuracy: 0.9747 - val_loss: 0.3249 - val_accuracy: 0.8934\n",
      "Epoch 25/30\n",
      "1000/1000 [==============================] - ETA: 0s - loss: 0.0714 - accuracy: 0.9750WARNING:tensorflow:Early stopping conditioned on metric `val_ross` which is not available. Available metrics are: loss,accuracy,val_loss,val_accuracy\n",
      "1000/1000 [==============================] - 132s 132ms/step - loss: 0.0714 - accuracy: 0.9750 - val_loss: 0.3198 - val_accuracy: 0.8990\n",
      "Epoch 26/30\n",
      "1000/1000 [==============================] - ETA: 0s - loss: 0.0719 - accuracy: 0.9754WARNING:tensorflow:Early stopping conditioned on metric `val_ross` which is not available. Available metrics are: loss,accuracy,val_loss,val_accuracy\n",
      "1000/1000 [==============================] - 133s 132ms/step - loss: 0.0719 - accuracy: 0.9754 - val_loss: 0.3413 - val_accuracy: 0.8994\n",
      "Epoch 27/30\n",
      "1000/1000 [==============================] - ETA: 0s - loss: 0.0594 - accuracy: 0.9787WARNING:tensorflow:Early stopping conditioned on metric `val_ross` which is not available. Available metrics are: loss,accuracy,val_loss,val_accuracy\n",
      "1000/1000 [==============================] - 137s 137ms/step - loss: 0.0594 - accuracy: 0.9787 - val_loss: 0.3920 - val_accuracy: 0.8990\n",
      "Epoch 28/30\n",
      "1000/1000 [==============================] - ETA: 0s - loss: 0.0614 - accuracy: 0.9780WARNING:tensorflow:Early stopping conditioned on metric `val_ross` which is not available. Available metrics are: loss,accuracy,val_loss,val_accuracy\n",
      "1000/1000 [==============================] - 131s 131ms/step - loss: 0.0614 - accuracy: 0.9780 - val_loss: 0.3835 - val_accuracy: 0.8988\n",
      "Epoch 29/30\n",
      "1000/1000 [==============================] - ETA: 0s - loss: 0.0618 - accuracy: 0.9792WARNING:tensorflow:Early stopping conditioned on metric `val_ross` which is not available. Available metrics are: loss,accuracy,val_loss,val_accuracy\n",
      "1000/1000 [==============================] - 129s 129ms/step - loss: 0.0618 - accuracy: 0.9792 - val_loss: 0.3048 - val_accuracy: 0.9054\n",
      "Epoch 30/30\n",
      "1000/1000 [==============================] - ETA: 0s - loss: 0.0611 - accuracy: 0.9790WARNING:tensorflow:Early stopping conditioned on metric `val_ross` which is not available. Available metrics are: loss,accuracy,val_loss,val_accuracy\n",
      "1000/1000 [==============================] - 130s 130ms/step - loss: 0.0611 - accuracy: 0.9790 - val_loss: 0.3769 - val_accuracy: 0.8882\n"
     ]
    }
   ],
   "source": [
    "h = model.fit(train_generator, epochs=30, validation_data=validation_generator,\n",
    "             callbacks=[checkpoint, early_stopping])"
   ]
  }
 ],
 "metadata": {
  "kernelspec": {
   "display_name": "Python 3 (ipykernel)",
   "language": "python",
   "name": "python3"
  },
  "language_info": {
   "codemirror_mode": {
    "name": "ipython",
    "version": 3
   },
   "file_extension": ".py",
   "mimetype": "text/x-python",
   "name": "python",
   "nbconvert_exporter": "python",
   "pygments_lexer": "ipython3",
   "version": "3.9.17"
  }
 },
 "nbformat": 4,
 "nbformat_minor": 5
}
