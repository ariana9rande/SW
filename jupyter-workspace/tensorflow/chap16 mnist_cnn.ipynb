{
 "cells": [
  {
   "cell_type": "code",
   "execution_count": 1,
   "id": "a686bee5",
   "metadata": {},
   "outputs": [],
   "source": [
    "from tensorflow.keras import models, layers\n",
    "from tensorflow.keras.callbacks import EarlyStopping\n",
    "from tensorflow.keras.datasets import mnist\n",
    "from tensorflow.keras.utils import to_categorical\n",
    "import matplotlib.pyplot as plt\n",
    "import numpy as np\n",
    "import os\n",
    "os.environ['KMP_DUPLICATE_LIB_OK'] = '1'"
   ]
  },
  {
   "cell_type": "code",
   "execution_count": 2,
   "id": "1545a375",
   "metadata": {},
   "outputs": [],
   "source": [
    "(X_train, y_train), (X_test, y_test) = mnist.load_data()"
   ]
  },
  {
   "cell_type": "code",
   "execution_count": 3,
   "id": "8dcbb1eb",
   "metadata": {},
   "outputs": [],
   "source": [
    "X_train = X_train.reshape(X_train.shape[0], 28, 28, 1).astype(float) / 255\n",
    "X_test = X_test.reshape(X_test.shape[0], 28, 28, 1).astype(float) / 255\n",
    "y_train = to_categorical(y_train, 10)\n",
    "y_test = to_categorical(y_test, 10)"
   ]
  },
  {
   "cell_type": "code",
   "execution_count": 4,
   "id": "01613ff1",
   "metadata": {},
   "outputs": [
    {
     "name": "stdout",
     "output_type": "stream",
     "text": [
      "Model: \"sequential\"\n",
      "_________________________________________________________________\n",
      " Layer (type)                Output Shape              Param #   \n",
      "=================================================================\n",
      " conv2d (Conv2D)             (None, 26, 26, 32)        320       \n",
      "                                                                 \n",
      " conv2d_1 (Conv2D)           (None, 24, 24, 64)        18496     \n",
      "                                                                 \n",
      " max_pooling2d (MaxPooling2D  (None, 12, 12, 64)       0         \n",
      " )                                                               \n",
      "                                                                 \n",
      " dropout (Dropout)           (None, 12, 12, 64)        0         \n",
      "                                                                 \n",
      " flatten (Flatten)           (None, 9216)              0         \n",
      "                                                                 \n",
      " dense (Dense)               (None, 128)               1179776   \n",
      "                                                                 \n",
      " dropout_1 (Dropout)         (None, 128)               0         \n",
      "                                                                 \n",
      " dense_1 (Dense)             (None, 10)                1290      \n",
      "                                                                 \n",
      "=================================================================\n",
      "Total params: 1,199,882\n",
      "Trainable params: 1,199,882\n",
      "Non-trainable params: 0\n",
      "_________________________________________________________________\n"
     ]
    }
   ],
   "source": [
    "model = models.Sequential()\n",
    "model.add(layers.Conv2D(32, kernel_size=(3, 3), input_shape=(28, 28, 1),\n",
    "                       activation='relu'))\n",
    "model.add(layers.Conv2D(64, (3, 3), activation='relu'))\n",
    "model.add(layers.MaxPooling2D(pool_size=(2, 2))) \n",
    "model.add(layers.Dropout(0.25))\n",
    "model.add(layers.Flatten())\n",
    "model.add(layers.Dense(128, activation='relu'))\n",
    "model.add(layers.Dropout(0.5))\n",
    "model.add(layers.Dense(10, activation='softmax'))\n",
    "model.summary()"
   ]
  },
  {
   "cell_type": "code",
   "execution_count": 5,
   "id": "bb5228dc",
   "metadata": {},
   "outputs": [],
   "source": [
    "model.compile(loss='categorical_crossentropy', optimizer='adam',\n",
    "             metrics=['accuracy'])\n",
    "\n",
    "early_stopping = EarlyStopping(monitor='val_loss', patience=10)"
   ]
  },
  {
   "cell_type": "code",
   "execution_count": 6,
   "id": "1b4c265e",
   "metadata": {},
   "outputs": [
    {
     "name": "stdout",
     "output_type": "stream",
     "text": [
      "Epoch 1/50\n",
      "225/225 [==============================] - 183s 809ms/step - loss: 0.3081 - accuracy: 0.9063 - val_loss: 0.0831 - val_accuracy: 0.9751\n",
      "Epoch 2/50\n",
      "225/225 [==============================] - 175s 779ms/step - loss: 0.0996 - accuracy: 0.9699 - val_loss: 0.0611 - val_accuracy: 0.9808\n",
      "Epoch 3/50\n",
      "225/225 [==============================] - 193s 859ms/step - loss: 0.0733 - accuracy: 0.9783 - val_loss: 0.0486 - val_accuracy: 0.9853\n",
      "Epoch 4/50\n",
      "225/225 [==============================] - 197s 876ms/step - loss: 0.0584 - accuracy: 0.9822 - val_loss: 0.0445 - val_accuracy: 0.9863\n",
      "Epoch 5/50\n",
      "225/225 [==============================] - 179s 795ms/step - loss: 0.0500 - accuracy: 0.9843 - val_loss: 0.0438 - val_accuracy: 0.9873\n",
      "Epoch 6/50\n",
      "225/225 [==============================] - 180s 800ms/step - loss: 0.0431 - accuracy: 0.9857 - val_loss: 0.0455 - val_accuracy: 0.9871\n",
      "Epoch 7/50\n",
      "225/225 [==============================] - 157s 698ms/step - loss: 0.0387 - accuracy: 0.9877 - val_loss: 0.0401 - val_accuracy: 0.9889\n",
      "Epoch 8/50\n",
      "225/225 [==============================] - 173s 769ms/step - loss: 0.0354 - accuracy: 0.9888 - val_loss: 0.0406 - val_accuracy: 0.9888\n",
      "Epoch 9/50\n",
      "225/225 [==============================] - 191s 848ms/step - loss: 0.0258 - accuracy: 0.9917 - val_loss: 0.0403 - val_accuracy: 0.9893\n",
      "Epoch 11/50\n",
      "225/225 [==============================] - 213s 947ms/step - loss: 0.0266 - accuracy: 0.9915 - val_loss: 0.0398 - val_accuracy: 0.9897\n",
      "Epoch 12/50\n",
      "225/225 [==============================] - 160s 710ms/step - loss: 0.0237 - accuracy: 0.9922 - val_loss: 0.0389 - val_accuracy: 0.9892\n",
      "Epoch 13/50\n",
      "225/225 [==============================] - 163s 722ms/step - loss: 0.0256 - accuracy: 0.9915 - val_loss: 0.0402 - val_accuracy: 0.9893\n",
      "Epoch 14/50\n",
      "225/225 [==============================] - 159s 709ms/step - loss: 0.0201 - accuracy: 0.9928 - val_loss: 0.0434 - val_accuracy: 0.9885\n",
      "Epoch 15/50\n",
      "225/225 [==============================] - 169s 752ms/step - loss: 0.0187 - accuracy: 0.9940 - val_loss: 0.0396 - val_accuracy: 0.9895\n",
      "Epoch 16/50\n",
      "225/225 [==============================] - 159s 704ms/step - loss: 0.0188 - accuracy: 0.9938 - val_loss: 0.0436 - val_accuracy: 0.9899\n",
      "Epoch 17/50\n",
      "225/225 [==============================] - 160s 709ms/step - loss: 0.0175 - accuracy: 0.9946 - val_loss: 0.0389 - val_accuracy: 0.9905\n",
      "Epoch 18/50\n",
      "225/225 [==============================] - 160s 713ms/step - loss: 0.0158 - accuracy: 0.9949 - val_loss: 0.0425 - val_accuracy: 0.9897\n",
      "Epoch 19/50\n",
      "225/225 [==============================] - 158s 701ms/step - loss: 0.0150 - accuracy: 0.9948 - val_loss: 0.0455 - val_accuracy: 0.9901\n",
      "Epoch 20/50\n",
      "225/225 [==============================] - 158s 702ms/step - loss: 0.0168 - accuracy: 0.9940 - val_loss: 0.0406 - val_accuracy: 0.9905\n",
      "Epoch 21/50\n",
      "225/225 [==============================] - 156s 693ms/step - loss: 0.0144 - accuracy: 0.9948 - val_loss: 0.0439 - val_accuracy: 0.9899\n",
      "Epoch 22/50\n",
      "225/225 [==============================] - 155s 689ms/step - loss: 0.0145 - accuracy: 0.9950 - val_loss: 0.0427 - val_accuracy: 0.9903\n",
      "Epoch 23/50\n",
      "225/225 [==============================] - 155s 690ms/step - loss: 0.0132 - accuracy: 0.9953 - val_loss: 0.0417 - val_accuracy: 0.9909\n",
      "Epoch 24/50\n",
      "225/225 [==============================] - 4657s 21s/step - loss: 0.0125 - accuracy: 0.9961 - val_loss: 0.0453 - val_accuracy: 0.9907\n",
      "Epoch 25/50\n",
      "225/225 [==============================] - 182s 808ms/step - loss: 0.0124 - accuracy: 0.9956 - val_loss: 0.0452 - val_accuracy: 0.9894\n",
      "Epoch 26/50\n",
      "225/225 [==============================] - 232s 1s/step - loss: 0.0102 - accuracy: 0.9962 - val_loss: 0.0487 - val_accuracy: 0.9897\n",
      "Epoch 27/50\n",
      "225/225 [==============================] - 224s 997ms/step - loss: 0.0135 - accuracy: 0.9952 - val_loss: 0.0443 - val_accuracy: 0.9901\n"
     ]
    }
   ],
   "source": [
    "h = model.fit(X_train, y_train, validation_split=0.25, epochs=50,\n",
    "             batch_size=200, callbacks=[early_stopping])"
   ]
  },
  {
   "cell_type": "code",
   "execution_count": 7,
   "id": "784f63d5",
   "metadata": {},
   "outputs": [
    {
     "name": "stdout",
     "output_type": "stream",
     "text": [
      "313/313 [==============================] - 97s 309ms/step - loss: 0.0304 - accuracy: 0.9924\n",
      "Test Accuray: 0.9924\n"
     ]
    }
   ],
   "source": [
    "print('Test Accuray: %.4f' % (model.evaluate(X_test, y_test)[1]))"
   ]
  },
  {
   "cell_type": "code",
   "execution_count": 8,
   "id": "b4ddffd7",
   "metadata": {},
   "outputs": [
    {
     "data": {
      "image/png": "[encoded data removed]",
      "text/plain": [
       "<Figure size 640x480 with 1 Axes>"
      ]
     },
     "metadata": {},
     "output_type": "display_data"
    }
   ],
   "source": [
    "y_vloss = h.history['val_loss']\n",
    "y_loss = h.history['loss']\n",
    "\n",
    "x_len = np.arange(len(y_loss))\n",
    "plt.plot(x_len, y_vloss, marker='.', c=\"red\", label='Testset_loss')\n",
    "plt.plot(x_len, y_loss, marker='.', c=\"blue\", label='Trainset_loss')\n",
    "plt.legend(loc='upper right')\n",
    "plt.grid()\n",
    "plt.xlabel('epoch')\n",
    "plt.ylabel('loss')\n",
    "plt.show()"
   ]
  },
  {
   "cell_type": "code",
   "execution_count": null,
   "id": "8faafb71",
   "metadata": {},
   "outputs": [],
   "source": []
  }
 ],
 "metadata": {
  "kernelspec": {
   "display_name": "Python 3 (ipykernel)",
   "language": "python",
   "name": "python3"
  },
  "language_info": {
   "codemirror_mode": {
    "name": "ipython",
    "version": 3
   },
   "file_extension": ".py",
   "mimetype": "text/x-python",
   "name": "python",
   "nbconvert_exporter": "python",
   "pygments_lexer": "ipython3",
   "version": "3.9.17"
  }
 },
 "nbformat": 4,
 "nbformat_minor": 5
}
